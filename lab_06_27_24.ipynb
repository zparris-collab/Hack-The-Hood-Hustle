{
  "nbformat": 4,
  "nbformat_minor": 0,
  "metadata": {
    "colab": {
      "provenance": [],
      "authorship_tag": "ABX9TyNvzZjn+3QUzbh3uZYmtv3j",
      "include_colab_link": true
    },
    "kernelspec": {
      "name": "python3",
      "display_name": "Python 3"
    },
    "language_info": {
      "name": "python"
    }
  },
  "cells": [
    {
      "cell_type": "markdown",
      "metadata": {
        "id": "view-in-github",
        "colab_type": "text"
      },
      "source": [
        "<a href=\"https://colab.research.google.com/github/zparris-collab/Hack-The-Hood-Hustle/blob/main/lab_06_27_24.ipynb\" target=\"_parent\"><img src=\"https://colab.research.google.com/assets/colab-badge.svg\" alt=\"Open In Colab\"/></a>"
      ]
    },
    {
      "cell_type": "markdown",
      "source": [
        "# Shopping cart\n",
        "\n",
        "The application will ask the uservfor items and then add..\n",
        "\n",
        "What do I want?\n",
        "\n",
        "i want to create a shopping cart application\n",
        "\n",
        "What do I need?\n",
        "\n",
        "- A place to hold items.\n",
        "  'cart'\n",
        "\n",
        "- A way to add items to our list\n",
        "    'cart.append()'\n",
        "\n",
        "- A way to display the items in our cart\n",
        "    print(\"stuff\")\n",
        "\n",
        "- A process to check if an item exists in the car\n",
        "  if item is in cart then do something else do something else\n",
        "\n",
        "#Part 1\n",
        "\n",
        "I will implement a list to store and access our cat.\n",
        "\n",
        "#Part 2\n",
        "\n",
        "I will iplement a Dictionary to store and access our cart."
      ],
      "metadata": {
        "id": "4WOSq5Wo0WEx"
      }
    },
    {
      "cell_type": "code",
      "source": [
        "cart = []\n",
        "# the value you of cart are brackets"
      ],
      "metadata": {
        "id": "xDLumsRuXD91"
      },
      "execution_count": null,
      "outputs": []
    },
    {
      "cell_type": "code",
      "source": [
        "print(f\"The items in your cart are: {cart}\")\n",
        "#TODO: Comment this line\n",
        "\n",
        "item = input('What would you like to add to the shopping cart? ')\n",
        "#TODO: Comment this line\n",
        "\n",
        "if item in cart:\n",
        "\n",
        "  print(f'{item} is already in the cart.')\n",
        "  #TODO; Comment this line\n",
        "\n",
        "else:\n",
        "#TODO: Comment this line\n",
        "  cart.append(item)\n",
        "  #TODO: Comment this line\n",
        "\n",
        "  print(f'{item} has been added to the cart.')\n",
        "  #TODO: Comment this line\n",
        "\n",
        "\n",
        "\n",
        "print(f\"The items in your cart are: {cart}\")"
      ],
      "metadata": {
        "id": "KqcGoz9nW4M_"
      },
      "execution_count": null,
      "outputs": []
    },
    {
      "cell_type": "code",
      "execution_count": null,
      "metadata": {
        "id": "4HzAJrm_Ns3o"
      },
      "outputs": [],
      "source": [
        "my_list = []"
      ]
    },
    {
      "cell_type": "code",
      "source": [
        "my_list\n"
      ],
      "metadata": {
        "colab": {
          "base_uri": "https://localhost:8080/"
        },
        "id": "ZyOO_D8hVMZx",
        "outputId": "40dc374c-5c66-42b9-fbe4-eb74687d7cb3"
      },
      "execution_count": null,
      "outputs": [
        {
          "output_type": "execute_result",
          "data": {
            "text/plain": [
              "[]"
            ]
          },
          "metadata": {},
          "execution_count": 32
        }
      ]
    },
    {
      "cell_type": "code",
      "source": [
        "print(my_list)"
      ],
      "metadata": {
        "colab": {
          "base_uri": "https://localhost:8080/"
        },
        "id": "mxI1t7gQVtuk",
        "outputId": "8e96abd0-a832-4716-b6df-48fe768a83b2"
      },
      "execution_count": null,
      "outputs": [
        {
          "output_type": "stream",
          "name": "stdout",
          "text": [
            "[]\n"
          ]
        }
      ]
    },
    {
      "cell_type": "code",
      "source": [
        "var = input()"
      ],
      "metadata": {
        "id": "8xxth9LOVzXQ"
      },
      "execution_count": null,
      "outputs": []
    },
    {
      "cell_type": "code",
      "source": [
        "var"
      ],
      "metadata": {
        "colab": {
          "base_uri": "https://localhost:8080/",
          "height": 35
        },
        "id": "-8eFyLsMV5a_",
        "outputId": "e16e1174-ac0d-4845-cf77-ced72ad4724d"
      },
      "execution_count": null,
      "outputs": [
        {
          "output_type": "execute_result",
          "data": {
            "text/plain": [
              "'something'"
            ],
            "application/vnd.google.colaboratory.intrinsic+json": {
              "type": "string"
            }
          },
          "metadata": {},
          "execution_count": 15
        }
      ]
    },
    {
      "cell_type": "code",
      "source": [
        "item = input('Enter an item: ')\n",
        "my_list.append(item)"
      ],
      "metadata": {
        "colab": {
          "base_uri": "https://localhost:8080/"
        },
        "id": "tTy14kVzV7ju",
        "outputId": "465b2e62-14e1-4728-8152-68c29a70b7b9"
      },
      "execution_count": null,
      "outputs": [
        {
          "name": "stdout",
          "output_type": "stream",
          "text": [
            "Enter an item: apple\n"
          ]
        }
      ]
    },
    {
      "cell_type": "code",
      "source": [
        "item"
      ],
      "metadata": {
        "colab": {
          "base_uri": "https://localhost:8080/",
          "height": 35
        },
        "id": "26LXxjeEWQG0",
        "outputId": "ad46eedd-1329-4f96-f691-5a53f33ff551"
      },
      "execution_count": null,
      "outputs": [
        {
          "output_type": "execute_result",
          "data": {
            "text/plain": [
              "'apple'"
            ],
            "application/vnd.google.colaboratory.intrinsic+json": {
              "type": "string"
            }
          },
          "metadata": {},
          "execution_count": 25
        }
      ]
    },
    {
      "cell_type": "markdown",
      "source": [
        "#Part 2"
      ],
      "metadata": {
        "id": "vaH_YHNu3Wr_"
      }
    },
    {
      "cell_type": "code",
      "source": [
        "cart2 = {}"
      ],
      "metadata": {
        "id": "oM6FWeIg3Yue"
      },
      "execution_count": 6,
      "outputs": []
    },
    {
      "cell_type": "code",
      "source": [
        "item2 = input('What would you like to add to the shopping cart: ')\n",
        "value2 = input(f'How many {item2} do you want: ')\n",
        "\n",
        "if item2 in cart2:\n",
        "  print(f'{item2} is already in cart')\n",
        "\n",
        "else:\n",
        "  cart2[item2] = value2\n",
        "\n",
        "print(f\"The items in your cart are: {cart2}\")"
      ],
      "metadata": {
        "id": "SsHnq3eY3hxY",
        "outputId": "c373974b-57c3-4653-c46a-fd310816dcbc",
        "colab": {
          "base_uri": "https://localhost:8080/"
        }
      },
      "execution_count": 9,
      "outputs": [
        {
          "output_type": "stream",
          "name": "stdout",
          "text": [
            "What would you like to add to the shopping cart: eggs\n",
            "How many eggs do you want: 11\n",
            "eggs is already in cart\n",
            "The items in your cart are: {'eggs': '12'}\n"
          ]
        }
      ]
    },
    {
      "cell_type": "markdown",
      "source": [
        "#Part 3"
      ],
      "metadata": {
        "id": "UYOJEmaB86qu"
      }
    },
    {
      "cell_type": "code",
      "source": [
        "cart3 = {}"
      ],
      "metadata": {
        "id": "yUOJLf6-9gZ2"
      },
      "execution_count": null,
      "outputs": []
    },
    {
      "cell_type": "code",
      "source": [
        "#TODO: comment this code block\n",
        "#Tell me what i am not doing in this block?\n",
        "\n",
        "choice = 'y'\n",
        "\n",
        "while choice == 'y'\n",
        "      question = input('Would you like to use the shopping cart application? (y/n):')\n",
        "\n",
        "      if question == 'y':\n",
        "        item3 = input('What would you like to add to the shopping cart')\n",
        "        value3 = input(f'How many {item3} do you want: ')\n",
        "        cart3[item3] = value3\n",
        "\n",
        "      else:\n",
        "        print('Thank you for using our appliction')\n",
        "        break\n",
        "\n",
        "\n",
        "item3 = input('What would you like to add to the shopping cart: ')\n",
        "value3 = input(f'How many {item3} do you want: ')\n",
        "\n",
        "if item3 in cart3:\n",
        "  print(f'{item3} is already in cart')\n",
        "\n",
        "else:\n",
        "  cart3[item3] = value3\n",
        "\n",
        "print(f\"The items in your cart are: {cart3}\")"
      ],
      "metadata": {
        "id": "YncTrmFY9gzo"
      },
      "execution_count": null,
      "outputs": []
    }
  ]
}