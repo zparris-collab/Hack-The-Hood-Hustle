{
  "nbformat": 4,
  "nbformat_minor": 0,
  "metadata": {
    "colab": {
      "provenance": [],
      "authorship_tag": "ABX9TyP3kXJ5FTSKCZehpaO46yPy",
      "include_colab_link": true
    },
    "kernelspec": {
      "name": "python3",
      "display_name": "Python 3"
    },
    "language_info": {
      "name": "python"
    }
  },
  "cells": [
    {
      "cell_type": "markdown",
      "metadata": {
        "id": "view-in-github",
        "colab_type": "text"
      },
      "source": [
        "<a href=\"https://colab.research.google.com/github/zparris-collab/Hack-The-Hood-Hustle/blob/main/lab_06_27_24.ipynb\" target=\"_parent\"><img src=\"https://colab.research.google.com/assets/colab-badge.svg\" alt=\"Open In Colab\"/></a>"
      ]
    },
    {
      "cell_type": "markdown",
      "source": [
        "# Shopping cart\n",
        "\n",
        "The application will ask the uservfor items and then add..\n",
        "\n",
        "What do I want?\n",
        "\n",
        "I want to create a shopping cart application\n",
        "\n",
        "What do I need?\n",
        "\n",
        "- A place to hold items.\n",
        "  'cart'\n",
        "\n",
        "- A way to add items to our list\n",
        "    'cart.append()'\n",
        "\n",
        "- A way to display the items in our cart\n",
        "    print(\"stuff\")\n",
        "\n",
        "- A process to check if an item exists in the car\n",
        "  if item is in cart then do something else do something else\n",
        "\n",
        "#Part 1\n",
        "\n",
        "I will implement a list to store and access our cart.\n",
        "\n",
        "#Part 2\n",
        "\n",
        "I will implement a Dictionary to store and access our cart.\n",
        "\n",
        "#Part 3\n",
        "\n",
        "I will implement a loop to ask the user to choose to continue or not use the application.\n",
        "\n",
        "#Part 4\n",
        "\n",
        "I will implement a system to check and add up all prices for all items in our cart.\n"
      ],
      "metadata": {
        "id": "4WOSq5Wo0WEx"
      }
    },
    {
      "cell_type": "markdown",
      "source": [
        "#Part 1"
      ],
      "metadata": {
        "id": "X207wa-gWY-U"
      }
    },
    {
      "cell_type": "code",
      "source": [
        "cart = []\n",
        "# The variable that we are going to use to store our list"
      ],
      "metadata": {
        "id": "xDLumsRuXD91"
      },
      "execution_count": null,
      "outputs": []
    },
    {
      "cell_type": "code",
      "source": [
        "print(f\"The items in your cart are: {cart}\")\n",
        "# This is being printed so that I know what is in my list\n",
        "\n",
        "item = input('What would you like to add to the shopping cart? ')\n",
        "# Typical question to ask yourself when shopping\n",
        "\n",
        "if item in cart:\n",
        "\n",
        "  print(f'{item} is already in the cart.')\n",
        "  # So you I know whats in the cart\n",
        "\n",
        "else:\n",
        "# This is so I can add what is not in my list\n",
        "  cart.append(item)\n",
        "  # This is how I am able to add things into my list because of the string append\n",
        "\n",
        "  print(f'{item} has been added to the cart.')\n",
        "  # Once append has done its job of adding an new item to my list this will print.\n",
        "\n",
        "\n",
        "\n",
        "print(f\"The items in your cart are: {cart}\")"
      ],
      "metadata": {
        "id": "KqcGoz9nW4M_"
      },
      "execution_count": null,
      "outputs": []
    },
    {
      "cell_type": "markdown",
      "source": [
        "#Part 2"
      ],
      "metadata": {
        "id": "vaH_YHNu3Wr_"
      }
    },
    {
      "cell_type": "code",
      "source": [
        "cart2 = {}"
      ],
      "metadata": {
        "id": "oM6FWeIg3Yue"
      },
      "execution_count": null,
      "outputs": []
    },
    {
      "cell_type": "code",
      "source": [
        "item2 = input('What would you like to add to the shopping cart: ')\n",
        "value2 = input(f'How many {item2} do you want: ')\n",
        "\n",
        "if item2 in cart2:\n",
        "  print(f'{item2} is already in cart')\n",
        "  #TODO:\n",
        "\n",
        "else:\n",
        "  cart2[item2] = value2\n",
        "  #TODO:\n",
        "\n",
        "print(f\"The items in your cart are: {cart2}\")"
      ],
      "metadata": {
        "id": "SsHnq3eY3hxY"
      },
      "execution_count": null,
      "outputs": []
    },
    {
      "cell_type": "markdown",
      "source": [
        "#Part 3"
      ],
      "metadata": {
        "id": "UYOJEmaB86qu"
      }
    },
    {
      "cell_type": "code",
      "source": [
        "cart3 = {}"
      ],
      "metadata": {
        "id": "yUOJLf6-9gZ2"
      },
      "execution_count": null,
      "outputs": []
    },
    {
      "cell_type": "code",
      "source": [
        "#TODO: comment this code block\n",
        "#There is no append for the user to add more items to the cart.\n",
        "\n",
        "choice = 'y'\n",
        "\n",
        "while choice == 'y'\n",
        "      question = input('Would you like to use the shopping cart application? (y/n):')\n",
        "\n",
        "      if question == 'y':\n",
        "        item3 = input('What would you like to add to the shopping cart')\n",
        "        value3 = input(f'How many {item3} do you want: ')\n",
        "        cart3[item3] = value3\n",
        "\n",
        "      else:\n",
        "        print('Thank you for using our appliction')\n",
        "        break\n",
        "\n",
        "\n",
        "item3 = input('What would you like to add to the shopping cart: ')\n",
        "value3 = input(f'How many {item3} do you want: ')\n",
        "\n",
        "if item3 in cart3:\n",
        "  print(f'{item3} is already in cart')\n",
        "\n",
        "else:\n",
        "  cart3[item3] = value3\n",
        "\n",
        "print(f\"The items in your cart are: {cart3}\")"
      ],
      "metadata": {
        "id": "YncTrmFY9gzo"
      },
      "execution_count": null,
      "outputs": []
    },
    {
      "cell_type": "code",
      "source": [
        "for i_like in range(15):\n",
        "  print(\"you ugly\")"
      ],
      "metadata": {
        "id": "9Ziw7jKIOLSS",
        "outputId": "09a354e2-13df-4e09-d5d4-f2e6a96518d1",
        "colab": {
          "base_uri": "https://localhost:8080/"
        }
      },
      "execution_count": 2,
      "outputs": [
        {
          "output_type": "stream",
          "name": "stdout",
          "text": [
            "you ugly\n",
            "you ugly\n",
            "you ugly\n",
            "you ugly\n",
            "you ugly\n",
            "you ugly\n",
            "you ugly\n",
            "you ugly\n",
            "you ugly\n",
            "you ugly\n",
            "you ugly\n",
            "you ugly\n",
            "you ugly\n",
            "you ugly\n",
            "you ugly\n"
          ]
        }
      ]
    },
    {
      "cell_type": "code",
      "source": [
        "counter = 0"
      ],
      "metadata": {
        "id": "FzeD6h-rPXh9"
      },
      "execution_count": null,
      "outputs": []
    },
    {
      "cell_type": "code",
      "source": [
        "a = 4\n",
        "while a > 1:\n",
        "  a -= 1\n",
        "  print(a)\n",
        "\n",
        "print(\"damn\")\n",
        "\n"
      ],
      "metadata": {
        "id": "dMmC13lhS0Yz",
        "outputId": "c990ced6-9f10-4639-ad9d-b74684d3a8b1",
        "colab": {
          "base_uri": "https://localhost:8080/"
        }
      },
      "execution_count": 15,
      "outputs": [
        {
          "output_type": "stream",
          "name": "stdout",
          "text": [
            "3\n",
            "2\n",
            "1\n",
            "damn\n"
          ]
        }
      ]
    },
    {
      "cell_type": "code",
      "source": [
        "number = int(input('Enter a number: '))\n",
        "# In this line I am declaring a variable `number` and I am assigning to the variable the `input()` function\n",
        "# The input() will ask the user to enter a number.\n",
        "# As I remember, the input() function takes in a string value.  Therefore, I need to convert that string value into an integer with the int()!\n",
        "count = 1\n",
        "# In this line I am declaring a varible `count`\n",
        "while count <= 10:\n",
        "    # In this line I am defining the while loop to iterate all numbers from 1 to or equal to 10\n",
        "    product = number * count\n",
        "    # In this line I am defining a variable `product` and I am assigning the multiplication of the number and the count\n",
        "    print(f'The number {number} multiplied by the number {count} = {product}')\n",
        "    # In this line I am printing the multiplication of the number and the count\n",
        "\n",
        "    count += 1\n",
        "    # in this line I am increasing the variable `count` by '1' after every iteration."
      ],
      "metadata": {
        "id": "1dunAGUSZwMg"
      },
      "execution_count": null,
      "outputs": []
    }
  ]
}