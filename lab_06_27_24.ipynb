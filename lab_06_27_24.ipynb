{
  "nbformat": 4,
  "nbformat_minor": 0,
  "metadata": {
    "colab": {
      "provenance": [],
      "authorship_tag": "ABX9TyO77a09noQyKvR78zt84fVa",
      "include_colab_link": true
    },
    "kernelspec": {
      "name": "python3",
      "display_name": "Python 3"
    },
    "language_info": {
      "name": "python"
    }
  },
  "cells": [
    {
      "cell_type": "markdown",
      "metadata": {
        "id": "view-in-github",
        "colab_type": "text"
      },
      "source": [
        "<a href=\"https://colab.research.google.com/github/zparris-collab/Hack-The-Hood-Hustle/blob/main/lab_06_27_24.ipynb\" target=\"_parent\"><img src=\"https://colab.research.google.com/assets/colab-badge.svg\" alt=\"Open In Colab\"/></a>"
      ]
    },
    {
      "cell_type": "code",
      "source": [
        "cart = []\n",
        "# the value you of cart are brackets"
      ],
      "metadata": {
        "id": "xDLumsRuXD91"
      },
      "execution_count": null,
      "outputs": []
    },
    {
      "cell_type": "code",
      "source": [
        "print(f\"The items in your cart are: {cart}\")\n",
        "#TODO: Comment this line\n",
        "\n",
        "item = input('What would you like to add to the shopping cart? ')\n",
        "#TODO: Comment this line\n",
        "\n",
        "if item in cart:\n",
        "\n",
        "  print(f'{item} is already in the cart.')\n",
        "  #TODO; Comment this line\n",
        "\n",
        "else:\n",
        "#TODO: Comment this line\n",
        "  cart.append(item)\n",
        "  #TODO: Comment this line\n",
        "\n",
        "  print(f'{item} has been added to the cart.')\n",
        "  #TODO: Comment this line\n",
        "\n",
        "\n",
        "\n",
        "print(f\"The items in your cart are: {cart}\")"
      ],
      "metadata": {
        "id": "KqcGoz9nW4M_"
      },
      "execution_count": null,
      "outputs": []
    },
    {
      "cell_type": "code",
      "execution_count": 31,
      "metadata": {
        "id": "4HzAJrm_Ns3o"
      },
      "outputs": [],
      "source": [
        "my_list = []"
      ]
    },
    {
      "cell_type": "code",
      "source": [
        "my_list\n"
      ],
      "metadata": {
        "colab": {
          "base_uri": "https://localhost:8080/"
        },
        "id": "ZyOO_D8hVMZx",
        "outputId": "40dc374c-5c66-42b9-fbe4-eb74687d7cb3"
      },
      "execution_count": 32,
      "outputs": [
        {
          "output_type": "execute_result",
          "data": {
            "text/plain": [
              "[]"
            ]
          },
          "metadata": {},
          "execution_count": 32
        }
      ]
    },
    {
      "cell_type": "code",
      "source": [
        "print(my_list)"
      ],
      "metadata": {
        "colab": {
          "base_uri": "https://localhost:8080/"
        },
        "id": "mxI1t7gQVtuk",
        "outputId": "8e96abd0-a832-4716-b6df-48fe768a83b2"
      },
      "execution_count": 33,
      "outputs": [
        {
          "output_type": "stream",
          "name": "stdout",
          "text": [
            "[]\n"
          ]
        }
      ]
    },
    {
      "cell_type": "code",
      "source": [
        "var = input()"
      ],
      "metadata": {
        "id": "8xxth9LOVzXQ"
      },
      "execution_count": null,
      "outputs": []
    },
    {
      "cell_type": "code",
      "source": [
        "var"
      ],
      "metadata": {
        "colab": {
          "base_uri": "https://localhost:8080/",
          "height": 35
        },
        "id": "-8eFyLsMV5a_",
        "outputId": "e16e1174-ac0d-4845-cf77-ced72ad4724d"
      },
      "execution_count": 15,
      "outputs": [
        {
          "output_type": "execute_result",
          "data": {
            "text/plain": [
              "'something'"
            ],
            "application/vnd.google.colaboratory.intrinsic+json": {
              "type": "string"
            }
          },
          "metadata": {},
          "execution_count": 15
        }
      ]
    },
    {
      "cell_type": "code",
      "source": [
        "item = input('Enter an item: ')\n",
        "my_list.append(item)"
      ],
      "metadata": {
        "colab": {
          "base_uri": "https://localhost:8080/"
        },
        "id": "tTy14kVzV7ju",
        "outputId": "465b2e62-14e1-4728-8152-68c29a70b7b9"
      },
      "execution_count": 24,
      "outputs": [
        {
          "name": "stdout",
          "output_type": "stream",
          "text": [
            "Enter an item: apple\n"
          ]
        }
      ]
    },
    {
      "cell_type": "code",
      "source": [
        "item"
      ],
      "metadata": {
        "colab": {
          "base_uri": "https://localhost:8080/",
          "height": 35
        },
        "id": "26LXxjeEWQG0",
        "outputId": "ad46eedd-1329-4f96-f691-5a53f33ff551"
      },
      "execution_count": 25,
      "outputs": [
        {
          "output_type": "execute_result",
          "data": {
            "text/plain": [
              "'apple'"
            ],
            "application/vnd.google.colaboratory.intrinsic+json": {
              "type": "string"
            }
          },
          "metadata": {},
          "execution_count": 25
        }
      ]
    }
  ]
}