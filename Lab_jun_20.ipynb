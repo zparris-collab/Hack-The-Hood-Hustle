{
  "nbformat": 4,
  "nbformat_minor": 0,
  "metadata": {
    "colab": {
      "provenance": [],
      "authorship_tag": "ABX9TyOQB5JeAkTTBXACZ3ne/eMX",
      "include_colab_link": true
    },
    "kernelspec": {
      "name": "python3",
      "display_name": "Python 3"
    },
    "language_info": {
      "name": "python"
    }
  },
  "cells": [
    {
      "cell_type": "markdown",
      "metadata": {
        "id": "view-in-github",
        "colab_type": "text"
      },
      "source": [
        "<a href=\"https://colab.research.google.com/github/zparris-collab/Hack-The-Hood-Hustle/blob/main/Lab_jun_20.ipynb\" target=\"_parent\"><img src=\"https://colab.research.google.com/assets/colab-badge.svg\" alt=\"Open In Colab\"/></a>"
      ]
    },
    {
      "cell_type": "markdown",
      "source": [
        "# Lab jun 20\n",
        "\n",
        "## intro to pseudo code"
      ],
      "metadata": {
        "id": "IFs2_v99IwBi"
      }
    },
    {
      "cell_type": "code",
      "source": [
        "First_name=(\"zyi\")\n",
        "Last_name=(\"parris\")\n",
        "Age=(20)\n",
        "Fav_color=(\"blue\")\n",
        "Fav_sport=(reading)\n",
        "Fav_Team=(warriors)\n",
        "\n",
        "\n",
        "\n"
      ],
      "metadata": {
        "colab": {
          "base_uri": "https://localhost:8080/"
        },
        "id": "JDY6pyA9M2Rr",
        "outputId": "19744614-eec1-4819-f377-5cc0f4b96204"
      },
      "execution_count": null,
      "outputs": [
        {
          "output_type": "stream",
          "name": "stdout",
          "text": [
            "zyi\n",
            "parris\n",
            "20\n",
            "blue\n"
          ]
        }
      ]
    },
    {
      "cell_type": "code",
      "source": [
        "First_name=input(\"what is your first name?\")\n",
        "#In this line I am using the input method to ask the user's first name\n",
        "Last_name=input(\"what is your Last name?\")\n",
        "#In this line I am using the input method to ask the user's Last name\n",
        "Age=input(\"What is your Age?\")\n",
        "#In this line I am using the input method to ask the user's Age\n",
        "Fav_color=input(\"what is your favorite color?\")\n",
        "#In this line I am using the input method to ask the user's Favorite color\n",
        "Fav_sport=input(\"what is your favorite sport?\")\n",
        "#In this line I am using the input method to ask the user's Favorite sport\n",
        "Fav_team=input(\"what is your favorite team?\")\n",
        "#In this line I am using the input method to ask the user's Favorite team"
      ],
      "metadata": {
        "colab": {
          "base_uri": "https://localhost:8080/"
        },
        "id": "EnsooN7ZUJMZ",
        "outputId": "15564b46-940e-4894-ae74-f730645dd997"
      },
      "execution_count": 4,
      "outputs": [
        {
          "name": "stdout",
          "output_type": "stream",
          "text": [
            "what is your first name?zyi\n",
            "what is your Last name?parris\n",
            "What is your Age?20\n",
            "what is your favorite color?blue\n",
            "what is your favorite sport?reading\n",
            "what is your favorite team?warriors\n"
          ]
        }
      ]
    },
    {
      "cell_type": "markdown",
      "source": [
        "F-string Formatting"
      ],
      "metadata": {
        "id": "BjwTwT2uV-Sc"
      }
    }
  ]
}