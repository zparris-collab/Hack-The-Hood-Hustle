{
  "nbformat": 4,
  "nbformat_minor": 0,
  "metadata": {
    "colab": {
      "provenance": [],
      "include_colab_link": true
    },
    "kernelspec": {
      "name": "python3",
      "display_name": "Python 3"
    },
    "language_info": {
      "name": "python"
    }
  },
  "cells": [
    {
      "cell_type": "markdown",
      "metadata": {
        "id": "view-in-github",
        "colab_type": "text"
      },
      "source": [
        "<a href=\"https://colab.research.google.com/github/zparris-collab/Hack-The-Hood-Hustle/blob/main/Functions_.ipynb\" target=\"_parent\"><img src=\"https://colab.research.google.com/assets/colab-badge.svg\" alt=\"Open In Colab\"/></a>"
      ]
    },
    {
      "cell_type": "markdown",
      "source": [
        "No return"
      ],
      "metadata": {
        "id": "0NnMp5MH9y8u"
      }
    },
    {
      "cell_type": "code",
      "source": [
        "def generate_superhero_power():\n",
        "    # Define a user name and superhero power\n",
        "\n",
        "    # Combine the user's name with the given superhero power\n",
        "\n",
        "    # Print the result\n",
        "\n",
        "# Example usage\n",
        "# Call the function\n",
        "\n",
        "\n",
        "\n",
        "\n",
        "\n",
        "def generate_superhero_power():\n",
        "    # Define a user name and superhero power\n",
        "    user_name = \"John\"\n",
        "    super_power = \"Flying\"\n",
        "\n",
        "    # Combine the user's name with the given superhero power\n",
        "    result = user_name + \" has the power of \" + super_power\n",
        "\n",
        "    # Print the result\n",
        "    print(result)\n",
        "\n",
        "# Example usage\n",
        "# Call the function\n",
        "generate_superhero_power()\n",
        "\n",
        "\n",
        "\n",
        "\n",
        "#The generate_superhero_power function defines a fixed user_name and super_power.\n",
        "#It combines these values into a result string.\n",
        "#It prints the result directly when the function is called."
      ],
      "metadata": {
        "id": "X_12wRn691Vw"
      },
      "execution_count": null,
      "outputs": []
    },
    {
      "cell_type": "markdown",
      "source": [
        "With Return"
      ],
      "metadata": {
        "id": "y3avNfyA-LZs"
      }
    },
    {
      "cell_type": "code",
      "execution_count": null,
      "metadata": {
        "id": "dTppJLWq7Vok"
      },
      "outputs": [],
      "source": [
        "def generate_superhero_power():\n",
        "    # Define a superhero power\n",
        "\n",
        "    # Return the superhero power\n",
        "\n",
        "# Example usage\n",
        "# Call the function and print the result\n"
      ]
    },
    {
      "cell_type": "code",
      "source": [
        "def generate_superhero_power():\n",
        "    # Define a superhero power\n",
        "    power = \"Flying\"  # This is the superhero power we will return\n",
        "\n",
        "    # Return the superhero power\n",
        "    return power\n",
        "\n",
        "# Example usage\n",
        "print(\"The superhero power is: \" + generate_superhero_power())\n",
        "\n",
        "#The function generate_superhero_power defines a simple superhero power.\n",
        "#The function returns the defined superhero power.\n",
        "#The example usage demonstrates calling the function and printing the result."
      ],
      "metadata": {
        "id": "NLKdfxxk7bOT"
      },
      "execution_count": null,
      "outputs": []
    },
    {
      "cell_type": "markdown",
      "source": [
        "Add argurments"
      ],
      "metadata": {
        "id": "2ihbOmkk8jNF"
      }
    },
    {
      "cell_type": "code",
      "source": [
        "#hint use ()\n",
        "def generate_superhero_power():\n",
        "    # Combine the user's name with the given superhero power\n",
        "\n",
        "    # Return the result\n",
        "\n",
        "# Example usage\n",
        "# Call the function with arguments and print the result"
      ],
      "metadata": {
        "id": "g9gGMK7a8ocB"
      },
      "execution_count": null,
      "outputs": []
    },
    {
      "cell_type": "code",
      "source": [
        "def generate_superhero_power(user_name, super_power):\n",
        "    # Combine the user's name with the given superhero power\n",
        "    result = user_name + \" has the power of \" + super_power\n",
        "\n",
        "    # Return the result\n",
        "    return result\n",
        "\n",
        "# Example usage\n",
        "print(generate_superhero_power(\"John\", \"Flying\"))\n",
        "\n",
        "\n",
        "#The generate_superhero_power function takes two arguments: user_name and super_power.\n",
        "#It combines the user's name with the given superhero power.\n",
        "#It returns the combined result.\n",
        "#The example usage demonstrates calling the function with specific arguments and printing the result."
      ],
      "metadata": {
        "id": "7piDzapM7tOl"
      },
      "execution_count": null,
      "outputs": []
    }
  ]
}