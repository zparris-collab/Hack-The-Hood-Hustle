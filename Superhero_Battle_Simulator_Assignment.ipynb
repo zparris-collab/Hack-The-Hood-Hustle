{
  "nbformat": 4,
  "nbformat_minor": 0,
  "metadata": {
    "colab": {
      "provenance": [],
      "include_colab_link": true
    },
    "kernelspec": {
      "name": "python3",
      "display_name": "Python 3"
    },
    "language_info": {
      "name": "python"
    }
  },
  "cells": [
    {
      "cell_type": "markdown",
      "metadata": {
        "id": "view-in-github",
        "colab_type": "text"
      },
      "source": [
        "<a href=\"https://colab.research.google.com/github/zparris-collab/Hack-The-Hood-Hustle/blob/main/Superhero_Battle_Simulator_Assignment.ipynb\" target=\"_parent\"><img src=\"https://colab.research.google.com/assets/colab-badge.svg\" alt=\"Open In Colab\"/></a>"
      ]
    },
    {
      "cell_type": "markdown",
      "source": [
        "# **Step 1: Hero Class**"
      ],
      "metadata": {
        "id": "VFihcw_Yj0UF"
      }
    },
    {
      "cell_type": "markdown",
      "source": [
        "1. Create the Hero class with the following properties:\n",
        "\n",
        "  *   name: The name of the hero.\n",
        "  *   starting_health: The initial health of the hero.\n",
        "  *   current_health: The current health of the hero (same as starting_health when initialized).\n",
        "\n",
        "2. Add a battle method to the Hero class that takes an opponent (another instance of Hero) and randomly selects a winner between the two heroes.\n",
        "\n",
        "3. Test the Hero class by creating an instance and printing its properties.\n",
        "\n",
        "**Note: You will need to update the Hero class throughout the code to add methods for future classes.**"
      ],
      "metadata": {
        "id": "R77MZbqYriUl"
      }
    },
    {
      "cell_type": "code",
      "source": [
        "class Hero:\n",
        "    def __init__(self, name, starting_health, current_health):\n",
        "      self.name = name\n",
        "      self.starting_health = starting_health\n",
        "      self.current_health = starting_health\n",
        "\n",
        "    def battle(self, opponent):\n",
        "      print(f\"{opponent.name} wins!\")\n",
        "\n",
        "my_hero = Hero(\"Clarkston\", 175, 175)\n",
        "my_enemy = Hero(\"Enemy\", 175, 175)\n",
        "my_enemy.battle(my_hero)"
      ],
      "metadata": {
        "colab": {
          "base_uri": "https://localhost:8080/"
        },
        "id": "flfTVNPUkCDA",
        "outputId": "e35bc1dc-91c7-4b80-f575-41326d494b00",
        "collapsed": true
      },
      "execution_count": null,
      "outputs": [
        {
          "output_type": "stream",
          "name": "stdout",
          "text": [
            "Clarkston wins!\n"
          ]
        }
      ]
    },
    {
      "cell_type": "markdown",
      "source": [
        "# **Step 2: Define the Ability Class**"
      ],
      "metadata": {
        "id": "fol-C6uFrjrH"
      }
    },
    {
      "cell_type": "markdown",
      "source": [
        "1. Create the Ability class with the following properties:\n",
        "\n",
        "  * name: The name of the ability.\n",
        "  * max_damage: The maximum damage the ability can inflict.\n",
        "\n",
        "2. Add an attack method to the Ability class that returns a random value between 0 and max_damage.\n",
        "\n",
        "3. Test the Ability class by creating an instance and printing its properties and attack value.\n",
        "\n",
        "4. Add an instance property in the Hero class for abilities and set it to an empty list.\n",
        "\n",
        "5. Add an add_ability method that takes in itself and ability as arguments that will take the given ability and add it to the 'abilities' property list."
      ],
      "metadata": {
        "id": "NKRQDLHQscwS"
      }
    },
    {
      "cell_type": "code",
      "source": [
        "class Ability:\n",
        "    def __init__():\n",
        "\n"
      ],
      "metadata": {
        "colab": {
          "base_uri": "https://localhost:8080/",
          "height": 106
        },
        "id": "uocEKjIEsqWG",
        "outputId": "ff5290ef-8791-46fe-a3c1-caea3160b0de"
      },
      "execution_count": null,
      "outputs": [
        {
          "output_type": "error",
          "ename": "SyntaxError",
          "evalue": "incomplete input (<ipython-input-2-1f77c007007a>, line 3)",
          "traceback": [
            "\u001b[0;36m  File \u001b[0;32m\"<ipython-input-2-1f77c007007a>\"\u001b[0;36m, line \u001b[0;32m3\u001b[0m\n\u001b[0;31m    \u001b[0m\n\u001b[0m    ^\u001b[0m\n\u001b[0;31mSyntaxError\u001b[0m\u001b[0;31m:\u001b[0m incomplete input\n"
          ]
        }
      ]
    },
    {
      "cell_type": "markdown",
      "source": [
        "# **Step 3: Define the Armor Class**"
      ],
      "metadata": {
        "id": "oOyngENOssQK"
      }
    },
    {
      "cell_type": "markdown",
      "source": [
        "1. Create the Armor class with the following properties:\n",
        "\n",
        "  * name: The name of the armor.\n",
        "  * max_block: The maximum block value the armor can provide.\n",
        "\n",
        "2. Add a block method to the Armor class that returns a random value between 0 and max_block.\n",
        "\n",
        "3. Test the Armor class by creating an instance and printing its properties and block value.\n",
        "\n",
        "4. Add an instance property in the Hero class for armors and set it to an empty list.\n",
        "\n",
        "5. Add an add_armor method that takes in itself and armor as arguments that will take the given armor and add it to the 'armors' property list."
      ],
      "metadata": {
        "id": "7Q7ErQkksvk4"
      }
    },
    {
      "cell_type": "code",
      "source": [
        "class Armor:\n",
        "    def __init__():\n"
      ],
      "metadata": {
        "colab": {
          "base_uri": "https://localhost:8080/"
        },
        "id": "UF-cgJFos3qi",
        "outputId": "f6582f3c-e4bc-4c3c-dac4-32bad7fa9a1a"
      },
      "execution_count": null,
      "outputs": [
        {
          "output_type": "stream",
          "name": "stdout",
          "text": [
            "Shield\n",
            "48\n"
          ]
        }
      ]
    },
    {
      "cell_type": "markdown",
      "source": [
        "# **Step 4: Define the Weapon Class**"
      ],
      "metadata": {
        "id": "o5XyN402tBoa"
      }
    },
    {
      "cell_type": "markdown",
      "source": [
        "1. Create the Weapon class as a subclass of Ability.\n",
        "\n",
        "2. Override the attack method in the Weapon class to return a random value between half of max_damage and max_damage.\n",
        "\n",
        "3. Test the Weapon class by creating an instance and printing its properties and attack value.\n",
        "\n",
        "4. Similar to Abilities and Armors, create an instance property for weapons and an add_weapons method to the Hero class."
      ],
      "metadata": {
        "id": "rndheuw1tENS"
      }
    },
    {
      "cell_type": "code",
      "source": [
        "class Weapon(Ability):\n",
        "    def attack():\n",
        "\n"
      ],
      "metadata": {
        "colab": {
          "base_uri": "https://localhost:8080/",
          "height": 106
        },
        "id": "1b8-Un-ZtMDf",
        "outputId": "753b9c2c-4b90-43ec-a1b9-8b44e5980e7f",
        "collapsed": true
      },
      "execution_count": null,
      "outputs": [
        {
          "output_type": "error",
          "ename": "SyntaxError",
          "evalue": "incomplete input (<ipython-input-3-8dd70ce7b55e>, line 3)",
          "traceback": [
            "\u001b[0;36m  File \u001b[0;32m\"<ipython-input-3-8dd70ce7b55e>\"\u001b[0;36m, line \u001b[0;32m3\u001b[0m\n\u001b[0;31m    \u001b[0m\n\u001b[0m    ^\u001b[0m\n\u001b[0;31mSyntaxError\u001b[0m\u001b[0;31m:\u001b[0m incomplete input\n"
          ]
        }
      ]
    },
    {
      "cell_type": "markdown",
      "source": [
        "# **Step 5: Define the Team Class**"
      ],
      "metadata": {
        "id": "uNDXeuBFtMna"
      }
    },
    {
      "cell_type": "markdown",
      "source": [
        "1. Create the Team class with the following properties:\n",
        "\n",
        "    * name: The name of the team.\n",
        "    * heroes: A list of Hero objects in the team.\n",
        "\n",
        "2. Add methods to the Team class:\n",
        "\n",
        "    * add_hero: Adds a Hero object to the heroes list.\n",
        "    * remove_hero: Removes a Hero object from the heroes list.\n",
        "    * view_all_heroes: Prints the names of all heroes in the team.\n",
        "    * revive_heroes: Set your current health to starting health!\n",
        "\n",
        "3. Test the Team class by creating an instance, adding heroes, and viewing all heroes."
      ],
      "metadata": {
        "id": "Dt9OAkUUtRHO"
      }
    },
    {
      "cell_type": "code",
      "source": [
        "class Team:\n",
        "    def __init__():\n"
      ],
      "metadata": {
        "colab": {
          "base_uri": "https://localhost:8080/",
          "height": 106
        },
        "id": "Iar3fIVZtcUM",
        "outputId": "8a3cea60-299f-40d7-e293-0b3d563d9b70"
      },
      "execution_count": null,
      "outputs": [
        {
          "output_type": "error",
          "ename": "SyntaxError",
          "evalue": "incomplete input (<ipython-input-4-5ba11ac2839e>, line 3)",
          "traceback": [
            "\u001b[0;36m  File \u001b[0;32m\"<ipython-input-4-5ba11ac2839e>\"\u001b[0;36m, line \u001b[0;32m3\u001b[0m\n\u001b[0;31m    \u001b[0m\n\u001b[0m    ^\u001b[0m\n\u001b[0;31mSyntaxError\u001b[0m\u001b[0;31m:\u001b[0m incomplete input\n"
          ]
        }
      ]
    },
    {
      "cell_type": "markdown",
      "source": [
        "# **Step 6: Define the Arena Class**"
      ],
      "metadata": {
        "id": "VeXjAmG8tcsK"
      }
    },
    {
      "cell_type": "markdown",
      "source": [
        "1. Create the Arena class with the following properties:\n",
        "\n",
        "    * team_one: An instance of Team representing the first team.\n",
        "    * team_two: An instance of Team representing the second team.\n",
        "\n",
        "2. Add methods to the Arena class:\n",
        "\n",
        "    * create_ability: Prompts the user to create an Ability object.\n",
        "    * create_weapon: Prompts the user to create a Weapon object.\n",
        "    * create_armor: Prompts the user to create an Armor object.\n",
        "    * create_hero: Prompts the user to create a Hero object with abilities, weapons, and armor.\n",
        "      * this methodwill use a loop to prompt the user to add abilities, weapons, and armor until they are done adding. This can be done in the form of a list of options.\n",
        "    * build_team_one: Prompts the user to build the first team.\n",
        "    * build_team_two: Prompts the user to build the second team.\n",
        "    * team_battle: Simulates a battle between the two teams.\n",
        "    * show_stats: Prints the statistics of the teams. Add a show_stats method to your Team class\n",
        "\n",
        "3. Test the Arena class by creating an instance, building teams, and simulating battles."
      ],
      "metadata": {
        "id": "wV4ltrLTtnX8"
      }
    },
    {
      "cell_type": "code",
      "source": [
        "class Arena:\n",
        "    def __init__(self):\n",
        "        '''Instantiate properties\n",
        "        team_one: None\n",
        "        team_two: None\n",
        "        '''\n",
        "        self.team_one = None\n",
        "        self.team_two = None\n",
        "\n",
        "    def create_ability(self):\n",
        "        '''Prompt for Ability information.\n",
        "        return Ability with values from user Input\n",
        "        '''\n",
        "        name = input(\"What is the ability name? \")\n",
        "        max_damage = int(input(\"What is the max damage of the ability? \"))\n",
        "        return Ability(name, max_damage)\n",
        "\n",
        "    def create_weapon(self):\n",
        "        '''Prompt user for Weapon information\n",
        "        return Weapon with values from user input.\n",
        "        '''\n",
        "        name = input(\"What is the weapon name? \")\n",
        "        max_damage = int(input(\"What is the max damage of the weapon? \"))\n",
        "        return Weapon(name, max_damage)\n",
        "\n",
        "    def create_armor(self):\n",
        "        '''Prompt user for Armor information\n",
        "        return Armor with values from user input.\n",
        "        '''\n",
        "        name = input(\"What is the armor name? \")\n",
        "        max_block = int(input(\"What is the max block of the armor? \"))\n",
        "        return Armor(name, max_block)\n",
        "\n",
        "    def create_hero(self):\n",
        "        '''Prompt user for Hero information\n",
        "        return Hero with values from user input.\n",
        "        '''\n",
        "        hero_name = input(\"Hero's name: \")\n",
        "        hero = Hero(hero_name)\n",
        "        add_item = None\n",
        "\n",
        "        while add_item != \"4\":\n",
        "            add_item = input(\"[1] Add ability\\n[2] Add weapon\\n[3] Add armor\\n[4] Done adding items\\n\\nYour choice: \")\n",
        "\n",
        "            if add_item == \"1\":\n",
        "                ability = self.create_ability()\n",
        "                hero.add_ability(ability)\n",
        "            elif add_item == \"2\":\n",
        "                weapon = self.create_weapon()\n",
        "                hero.add_weapon(weapon)\n",
        "            elif add_item == \"3\":\n",
        "                armor = self.create_armor()\n",
        "                hero.add_armor(armor)\n",
        "\n",
        "        return hero\n",
        "\n",
        "    def build_team_one(self):\n",
        "        '''Prompt the user to build team_one '''\n",
        "        team_name = input(\"Enter Team One's name: \")\n",
        "        self.team_one = Team(team_name)\n",
        "        num_of_team_members = int(input(\"How many members would you like on Team One?\\n\"))\n",
        "\n",
        "        for _ in range(num_of_team_members):\n",
        "            hero = self.create_hero()\n",
        "            self.team_one.add_hero(hero)\n",
        "\n",
        "    def build_team_two(self):\n",
        "        '''Prompt the user to build team_two'''\n",
        "        team_name = input(\"Enter Team Two's name: \")\n",
        "        self.team_two = Team(team_name)\n",
        "        num_of_team_members = int(input(\"How many members would you like on Team Two?\\n\"))\n",
        "\n",
        "        for _ in range(num_of_team_members):\n",
        "            hero = self.create_hero()\n",
        "            self.team_two.add_hero(hero)\n",
        "\n",
        "    def team_battle(self):\n",
        "        '''Battle team_one and team_two together.'''\n",
        "        living_heroes = [hero for hero in self.team_one.heroes if hero.current_health > 0]\n",
        "        living_opponents = [hero for hero in self.team_two.heroes if hero.current_health > 0]\n",
        "\n",
        "        while len(living_heroes) > 0 and len(living_opponents) > 0:\n",
        "            hero = random.choice(living_heroes)\n",
        "            opponent = random.choice(living_opponents)\n",
        "            winner = hero.battle(opponent)\n",
        "            print(winner)\n",
        "\n",
        "            living_heroes = [hero for hero in self.team_one.heroes if hero.current_health > 0]\n",
        "            living_opponents = [hero for hero in self.team_two.heroes if hero.current_health > 0]\n",
        "\n",
        "    def show_stats(self):\n",
        "        '''Prints team statistics to terminal.'''\n",
        "        print(\"\\n\")\n",
        "        print(self.team_one.name + \" statistics: \")\n",
        "        self.team_one.stats()\n",
        "        print(\"\\n\")\n",
        "        print(self.team_two.name + \" statistics: \")\n",
        "        self.team_two.stats()\n",
        "        print(\"\\n\")\n",
        "\n",
        "        # This is how to calculate the average K/D for Team One\n",
        "        team_kills = 0\n",
        "        team_deaths = 0\n",
        "\n",
        "        for hero in self.team_one.heroes:\n",
        "            team_kills += hero.kills\n",
        "            team_deaths += hero.deaths\n",
        "\n",
        "        if team_deaths == 0:\n",
        "            team_deaths = 1\n",
        "\n",
        "        print(self.team_one.name + \" average K/D was: \" + str(team_kills / team_deaths))\n",
        "\n",
        "        # Now display the average K/D for Team Two\n",
        "        team_kills = 0\n",
        "        team_deaths = 0\n",
        "\n",
        "        for hero in self.team_two.heroes:\n",
        "            team_kills += hero.kills\n",
        "            team_deaths += hero.deaths\n",
        "\n",
        "        if team_deaths == 0:\n",
        "            team_deaths = 1\n",
        "\n",
        "        print(self.team_two.name + \" average K/D was: \" + str(team_kills / team_deaths))\n",
        "\n",
        "        # List the heroes from Team One that survived\n",
        "        for hero in self.team_one.heroes:\n",
        "            if hero.deaths == 0:\n",
        "                print(\"Survived from \" + self.team_one.name + \": \" + hero.name)\n",
        "\n",
        "        # List the heroes from Team Two that survived\n",
        "        for hero in self.team_two.heroes:\n",
        "            if hero.deaths == 0:\n",
        "                print(\"Survived from \" + self.team_two.name + \": \" + hero.name)\n",
        "\n",
        "if __name__ == \"__main__\":\n",
        "    game_is_running = True\n",
        "    arena = Arena()\n",
        "    arena.build_team_one()\n",
        "    arena.build_team_two()\n",
        "\n",
        "    while game_is_running:\n",
        "        arena.team_battle()\n",
        "        arena.show_stats()\n",
        "        play_again = input(\"Play Again? Y or N: \")\n",
        "\n",
        "        if play_again.lower() == \"n\":\n",
        "            game_is_running = False\n",
        "        else:\n",
        "            arena.team_one.revive_heroes()\n",
        "            arena.team_two.revive_heroes()\n"
      ],
      "metadata": {
        "colab": {
          "base_uri": "https://localhost:8080/"
        },
        "id": "lbjMbSfrt4rh",
        "outputId": "60b47b90-b855-4b35-9768-e06d66223011"
      },
      "execution_count": null,
      "outputs": [
        {
          "name": "stdout",
          "output_type": "stream",
          "text": [
            "Enter Team One's name: B\n",
            "How many members would you like on Team One?\n",
            "1\n",
            "Hero's name: C\n",
            "[1] Add ability\n",
            "[2] Add weapon\n",
            "[3] Add armor\n",
            "[4] Done adding items\n",
            "\n",
            "Your choice: 1\n",
            "What is the ability name? t\n",
            "What is the max damage of the ability? 5\n",
            "[1] Add ability\n",
            "[2] Add weapon\n",
            "[3] Add armor\n",
            "[4] Done adding items\n",
            "\n",
            "Your choice: 2\n",
            "What is the weapon name? 6\n",
            "What is the max damage of the weapon? 6\n",
            "[1] Add ability\n",
            "[2] Add weapon\n",
            "[3] Add armor\n",
            "[4] Done adding items\n",
            "\n",
            "Your choice: 3\n",
            "What is the armor name? t\n",
            "What is the max block of the armor? 7\n",
            "[1] Add ability\n",
            "[2] Add weapon\n",
            "[3] Add armor\n",
            "[4] Done adding items\n",
            "\n",
            "Your choice: 4\n",
            "Enter Team Two's name: R\n",
            "How many members would you like on Team Two?\n",
            "1\n",
            "Hero's name: 1\n",
            "[1] Add ability\n",
            "[2] Add weapon\n",
            "[3] Add armor\n",
            "[4] Done adding items\n",
            "\n",
            "Your choice: 1\n",
            "What is the ability name? t\n",
            "What is the max damage of the ability? 5\n",
            "[1] Add ability\n",
            "[2] Add weapon\n",
            "[3] Add armor\n",
            "[4] Done adding items\n",
            "\n",
            "Your choice: 2\n",
            "What is the weapon name? t\n",
            "What is the max damage of the weapon? 5\n",
            "[1] Add ability\n",
            "[2] Add weapon\n",
            "[3] Add armor\n",
            "[4] Done adding items\n",
            "\n",
            "Your choice: 3\n",
            "What is the armor name? t\n",
            "What is the max block of the armor? 5\n",
            "[1] Add ability\n",
            "[2] Add weapon\n",
            "[3] Add armor\n",
            "[4] Done adding items\n",
            "\n",
            "Your choice: 1\n",
            "What is the ability name? r\n",
            "What is the max damage of the ability? 5\n",
            "[1] Add ability\n",
            "[2] Add weapon\n",
            "[3] Add armor\n",
            "[4] Done adding items\n",
            "\n",
            "Your choice: 4\n",
            "1 won!\n",
            "\n",
            "\n",
            "B statistics: \n",
            "C - Kills: 0, Deaths: 1\n",
            "\n",
            "\n",
            "R statistics: \n",
            "1 - Kills: 1, Deaths: 0\n",
            "\n",
            "\n",
            "B average K/D was: 0.0\n",
            "R average K/D was: 1.0\n",
            "Survived from R: 1\n",
            "Play Again? Y or N: Y\n",
            "C won!\n",
            "\n",
            "\n",
            "B statistics: \n",
            "C - Kills: 1, Deaths: 1\n",
            "\n",
            "\n",
            "R statistics: \n",
            "1 - Kills: 1, Deaths: 1\n",
            "\n",
            "\n",
            "B average K/D was: 1.0\n",
            "R average K/D was: 1.0\n",
            "Play Again? Y or N: Y\n",
            "1 won!\n",
            "\n",
            "\n",
            "B statistics: \n",
            "C - Kills: 1, Deaths: 2\n",
            "\n",
            "\n",
            "R statistics: \n",
            "1 - Kills: 2, Deaths: 1\n",
            "\n",
            "\n",
            "B average K/D was: 0.5\n",
            "R average K/D was: 2.0\n",
            "Play Again? Y or N: Y\n",
            "1 won!\n",
            "\n",
            "\n",
            "B statistics: \n",
            "C - Kills: 1, Deaths: 3\n",
            "\n",
            "\n",
            "R statistics: \n",
            "1 - Kills: 3, Deaths: 1\n",
            "\n",
            "\n",
            "B average K/D was: 0.3333333333333333\n",
            "R average K/D was: 3.0\n",
            "Play Again? Y or N: Y\n",
            "1 won!\n",
            "\n",
            "\n",
            "B statistics: \n",
            "C - Kills: 1, Deaths: 4\n",
            "\n",
            "\n",
            "R statistics: \n",
            "1 - Kills: 4, Deaths: 1\n",
            "\n",
            "\n",
            "B average K/D was: 0.25\n",
            "R average K/D was: 4.0\n",
            "Play Again? Y or N: Y\n",
            "C won!\n",
            "\n",
            "\n",
            "B statistics: \n",
            "C - Kills: 2, Deaths: 4\n",
            "\n",
            "\n",
            "R statistics: \n",
            "1 - Kills: 4, Deaths: 2\n",
            "\n",
            "\n",
            "B average K/D was: 0.5\n",
            "R average K/D was: 2.0\n",
            "Play Again? Y or N: Y\n",
            "1 won!\n",
            "\n",
            "\n",
            "B statistics: \n",
            "C - Kills: 2, Deaths: 5\n",
            "\n",
            "\n",
            "R statistics: \n",
            "1 - Kills: 5, Deaths: 2\n",
            "\n",
            "\n",
            "B average K/D was: 0.4\n",
            "R average K/D was: 2.5\n",
            "Play Again? Y or N: Y\n",
            "C won!\n",
            "\n",
            "\n",
            "B statistics: \n",
            "C - Kills: 3, Deaths: 5\n",
            "\n",
            "\n",
            "R statistics: \n",
            "1 - Kills: 5, Deaths: 3\n",
            "\n",
            "\n",
            "B average K/D was: 0.6\n",
            "R average K/D was: 1.6666666666666667\n",
            "Play Again? Y or N: Y\n",
            "C won!\n",
            "\n",
            "\n",
            "B statistics: \n",
            "C - Kills: 4, Deaths: 5\n",
            "\n",
            "\n",
            "R statistics: \n",
            "1 - Kills: 5, Deaths: 4\n",
            "\n",
            "\n",
            "B average K/D was: 0.8\n",
            "R average K/D was: 1.25\n",
            "Play Again? Y or N: Y\n",
            "1 won!\n",
            "\n",
            "\n",
            "B statistics: \n",
            "C - Kills: 4, Deaths: 6\n",
            "\n",
            "\n",
            "R statistics: \n",
            "1 - Kills: 6, Deaths: 4\n",
            "\n",
            "\n",
            "B average K/D was: 0.6666666666666666\n",
            "R average K/D was: 1.5\n",
            "Play Again? Y or N: Y\n",
            "1 won!\n",
            "\n",
            "\n",
            "B statistics: \n",
            "C - Kills: 4, Deaths: 7\n",
            "\n",
            "\n",
            "R statistics: \n",
            "1 - Kills: 7, Deaths: 4\n",
            "\n",
            "\n",
            "B average K/D was: 0.5714285714285714\n",
            "R average K/D was: 1.75\n",
            "Play Again? Y or N: N\n"
          ]
        }
      ]
    },
    {
      "cell_type": "markdown",
      "source": [
        "**Stretch Goals:**\n",
        "\n",
        "Now that you have completed the simulator, congratulations! Hopefully your favorite heroes are faring well. Can you think of any ways to make your battle simulator even more enhanced and unique? For example, maybe try to implement an ultimate attack when heroes have a chance of having all the members of their team back them up and attack at once. Or can you implement a system to balance added abilities, armors and weapons? What about adding more battle functionality?\n"
      ],
      "metadata": {
        "id": "blWlAddl3Kbi"
      }
    }
  ]
}