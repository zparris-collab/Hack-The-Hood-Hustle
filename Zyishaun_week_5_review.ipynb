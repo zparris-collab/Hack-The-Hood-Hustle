{
  "nbformat": 4,
  "nbformat_minor": 0,
  "metadata": {
    "colab": {
      "provenance": [],
      "include_colab_link": true
    },
    "kernelspec": {
      "name": "python3",
      "display_name": "Python 3"
    },
    "language_info": {
      "name": "python"
    }
  },
  "cells": [
    {
      "cell_type": "markdown",
      "metadata": {
        "id": "view-in-github",
        "colab_type": "text"
      },
      "source": [
        "<a href=\"https://colab.research.google.com/github/zparris-collab/Hack-The-Hood-Hustle/blob/main/Zyishaun_week_5_review.ipynb\" target=\"_parent\"><img src=\"https://colab.research.google.com/assets/colab-badge.svg\" alt=\"Open In Colab\"/></a>"
      ]
    },
    {
      "cell_type": "code",
      "execution_count": null,
      "metadata": {
        "id": "PUivqhrCkr8y"
      },
      "outputs": [],
      "source": [
        "#\n",
        "\n",
        "#Starting with pseudocode\n",
        "\n",
        "\n",
        "\n",
        "#make a list\n",
        "\n",
        "\n",
        "#Index the third item on the list\n",
        "\n",
        "\n",
        "\n",
        "#Add an item into the list using list_name.append('item here)"
      ]
    },
    {
      "cell_type": "code",
      "source": [
        "list = ['sneakers', 'sandals', 'jordans', 'boots']\n",
        "\n",
        "print(list[3])\n",
        "\n",
        "list.append('heels')\n",
        "\n",
        "print(list)"
      ],
      "metadata": {
        "colab": {
          "base_uri": "https://localhost:8080/"
        },
        "id": "-G9jJy6btwKm",
        "outputId": "60c7da32-2a9d-4b5c-b0f0-47ec6c61742f"
      },
      "execution_count": 49,
      "outputs": [
        {
          "output_type": "stream",
          "name": "stdout",
          "text": [
            "boots\n",
            "['sneakers', 'sandals', 'jordans', 'boots', 'heels']\n"
          ]
        }
      ]
    },
    {
      "cell_type": "markdown",
      "source": [
        "#Conditionals"
      ],
      "metadata": {
        "id": "1GSYV7z4uRS6"
      }
    },
    {
      "cell_type": "code",
      "source": [
        "#Check the age of someone to see if they can vote\n",
        "#To be able to vote, you need to be equal to or greater than 18\n",
        "\n",
        "age = 25\n",
        "\n",
        "if age >= 18:\n",
        "  print('ello govnah you can vote')\n",
        "else:\n",
        "    print('sorry govnah you cant vote')\n",
        "\n",
        "# make an if else statement for a math operation,\n",
        "#declare a number\n",
        "#assign it to 15\n",
        "#if you can divide it by 3 and it equals (==) 7, print anything\n",
        "#ifelse statement if it divides by 5 and it equals 3, print something\n",
        "#else ... print something\n",
        "\n",
        "number = 15\n",
        "\n",
        "if number / 3 == 7:\n",
        "  print(\"something\")\n",
        "\n",
        "elif number / 5 == 3:\n",
        "    print(\"something else\")\n",
        "\n",
        "else:\n",
        "    print(\"nothing\")\n",
        "\n",
        "\n",
        "\n",
        "\n",
        "\n",
        "\n",
        "\n"
      ],
      "metadata": {
        "colab": {
          "base_uri": "https://localhost:8080/"
        },
        "id": "Hr1cYemCuUVb",
        "outputId": "0cca3ae5-3cf9-4cad-9927-68e523547386"
      },
      "execution_count": 30,
      "outputs": [
        {
          "output_type": "stream",
          "name": "stdout",
          "text": [
            "ello govnah you can vote\n",
            "something else\n"
          ]
        }
      ]
    },
    {
      "cell_type": "markdown",
      "source": [
        "#While loop"
      ],
      "metadata": {
        "id": "7UZwj8_c0CpB"
      }
    },
    {
      "cell_type": "code",
      "source": [
        "#If the number is less than 50\n",
        "#print out the number\n",
        "#stop when it is after 50\n",
        "\n",
        "number = 51\n",
        "\n",
        "while number <= 25:\n",
        "\n",
        "  if number / 2 == 0:\n",
        "    print(f\"'{number} is off\")\n",
        "\n",
        "else:\n",
        "    print(f\"{number} is legit\")\n",
        "\n"
      ],
      "metadata": {
        "colab": {
          "base_uri": "https://localhost:8080/"
        },
        "id": "FdVlrVyk0Fan",
        "outputId": "e30c9fd0-424c-4edd-b645-c42b1ede1892"
      },
      "execution_count": 48,
      "outputs": [
        {
          "output_type": "stream",
          "name": "stdout",
          "text": [
            "51 is legit\n"
          ]
        }
      ]
    },
    {
      "cell_type": "markdown",
      "source": [
        "#Problem: Determine the Movie Ticket Price\n",
        "You are tasked with writing a program that determines the price of a movie ticket based on the age of the customer. The ticket prices are as follows:\n",
        "#If the customer is under 13 years old, the ticket price is $8.\n",
        "#If the customer is between 13 and 59 years old (inclusive), the ticket price is $12.\n",
        "#If the customer is 60 years old or older, the ticket price is $10.\n",
        "Write a program that:\n",
        "#Prompts the user to enter their age.\n",
        "#Determines the ticket price based on their age using an if-else statement.\n",
        "#Prints out the ticket price."
      ],
      "metadata": {
        "id": "X9yoUHFH6uOm"
      }
    }
  ]
}