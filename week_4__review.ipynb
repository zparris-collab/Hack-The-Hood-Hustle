{
  "nbformat": 4,
  "nbformat_minor": 0,
  "metadata": {
    "colab": {
      "provenance": [],
      "authorship_tag": "ABX9TyOxufJxofTyarKAj5g0Ip0c",
      "include_colab_link": true
    },
    "kernelspec": {
      "name": "python3",
      "display_name": "Python 3"
    },
    "language_info": {
      "name": "python"
    }
  },
  "cells": [
    {
      "cell_type": "markdown",
      "metadata": {
        "id": "view-in-github",
        "colab_type": "text"
      },
      "source": [
        "<a href=\"https://colab.research.google.com/github/zparris-collab/Hack-The-Hood-Hustle/blob/main/week_4__review.ipynb\" target=\"_parent\"><img src=\"https://colab.research.google.com/assets/colab-badge.svg\" alt=\"Open In Colab\"/></a>"
      ]
    },
    {
      "cell_type": "code",
      "source": [],
      "metadata": {
        "id": "hhwBKzt1lbCc"
      },
      "execution_count": null,
      "outputs": []
    },
    {
      "cell_type": "markdown",
      "source": [
        "#Lists"
      ],
      "metadata": {
        "id": "ngIX2Xe3iOcl"
      }
    },
    {
      "cell_type": "code",
      "source": [
        "## 1. Create a list and then print it, making sure to give it a descriptive variable name:\n",
        "My_activities = [\"painting\",\"drawing\",\"reading\",\"skateboarding\",]\n",
        "\n",
        "print(My_activities)\n",
        "\n",
        "rainbow_colors = ['red', 'orange', 'yellow', 'green', 'blue', 'indigo', 'violet']\n",
        "\n",
        "# 2a. Print the third color through indexing\n",
        "print(rainbow_colors[2])\n",
        "# 2b. Print the last color through indexing\n",
        "print(rainbow_colors[6])\n",
        "# 2c. Print the first three colors through indexing\n",
        "print(rainbow_colors[0:3])\n",
        "# 2d. Set up the print statement so the output is: green  violet  orange\n",
        "print(rainbow_colors[3])\n",
        "print(rainbow_colors[6])\n",
        "print(rainbow_colors[1])\n",
        "\n",
        "# 3 Length and string concatenating with this list:\n",
        "\n",
        "fruits = [\n",
        "    \"Apple\", \"Banana\", \"Orange\", \"Grape\", \"Pineapple\",\n",
        "    \"Strawberry\", \"Blueberry\", \"Raspberry\", \"Mango\", \"Peach\",\n",
        "    \"Cherry\", \"Watermelon\", \"Cantaloupe\", \"Honeydew\", \"Kiwi\",\n",
        "    \"Papaya\", \"Plum\", \"Pomegranate\", \"Lychee\", \"Dragonfruit\",\n",
        "    \"Passionfruit\", \"Fig\", \"Guava\"\n",
        "]\n",
        "\n",
        "# 3a. Print out the length of the fruits list\n",
        "print(len(fruits))\n",
        "\n",
        "# 4. Print out the following statement by indexing\n",
        "# and concatenating the elements of list to be:\n",
        "# \"I would like to buy an Apple and Banana\n",
        "\n",
        "print(\"I would like to buy an \" + fruits[0] + \"and\" + fruits[1] )\n"
      ],
      "metadata": {
        "colab": {
          "base_uri": "https://localhost:8080/"
        },
        "id": "ED_XKnxUiVwj",
        "outputId": "85fb87c5-0bd5-418c-c1a6-dc8890eecba8"
      },
      "execution_count": 10,
      "outputs": [
        {
          "output_type": "stream",
          "name": "stdout",
          "text": [
            "['painting', 'drawing', 'reading', 'skateboarding']\n",
            "yellow\n",
            "violet\n",
            "['red', 'orange', 'yellow']\n",
            "green\n",
            "violet\n",
            "orange\n",
            "23\n"
          ]
        }
      ]
    },
    {
      "cell_type": "markdown",
      "source": [
        "#Dictionary"
      ],
      "metadata": {
        "id": "Kpkb3uG8otL4"
      }
    },
    {
      "cell_type": "code",
      "source": [
        "# Step 1: Create a dictionary with a student's name\n",
        "\n",
        "student = {\n",
        "    \"name\" : \"Malala Yousef\",\n",
        "}\n",
        "print(student)\n",
        "\n",
        "# Step 2: Add a list of grades to the dictionary\n",
        "\n",
        "student[\"grades\"] = [85,97,96,90]\n",
        "\n",
        "print(student)\n",
        "\n",
        "# Step 3: print out only the grades\n",
        "\n",
        "print(student[\"grades\"])\n",
        "\n",
        "#step 4: : Add the latest score, 99, to grades\n",
        "\n",
        "student[\"grades\"].append(100)\n",
        "\n",
        "print(student)"
      ],
      "metadata": {
        "colab": {
          "base_uri": "https://localhost:8080/"
        },
        "id": "QOxbQBDloyEH",
        "outputId": "9ef85e2f-fd33-4405-ffea-78a48377f661"
      },
      "execution_count": 29,
      "outputs": [
        {
          "output_type": "stream",
          "name": "stdout",
          "text": [
            "{'name': 'Malala Yousef'}\n",
            "{'name': 'Malala Yousef', 'grades': [85, 97, 96, 90]}\n",
            "[85, 97, 96, 90]\n",
            "{'name': 'Malala Yousef', 'grades': [85, 97, 96, 90, 100]}\n"
          ]
        }
      ]
    },
    {
      "cell_type": "markdown",
      "source": [
        "#Conditionals"
      ],
      "metadata": {
        "id": "7HO-d0COuV2k"
      }
    },
    {
      "cell_type": "code",
      "source": [
        "#Step 1: Simple if statement with arithmetic operator\n",
        "age = int(input(\"Please enter your age:\"))\n",
        "\n",
        "\n",
        "age_in_5_years = age + 5\n",
        "\n",
        "\n",
        "\n",
        "\n",
        "\n",
        "if age_in_5_years >= 18:\n",
        "  print(\"Your old enough to vote\")\n",
        "\n",
        "#Step 2: introducing if and else with comparisons\n",
        "\n",
        "age = int(input(\"Please enter your age:\"))\n",
        "\n",
        "if age >= 18:\n",
        "  print(\"You are old enough\")\n",
        "\n",
        "else:\n",
        "  print(\"You are not old enough\")\n"
      ],
      "metadata": {
        "colab": {
          "base_uri": "https://localhost:8080/"
        },
        "id": "n30YkAN7uX4Q",
        "outputId": "a9598e22-692f-4911-b462-80efda15b2cb"
      },
      "execution_count": 32,
      "outputs": [
        {
          "name": "stdout",
          "output_type": "stream",
          "text": [
            "Please enter your age:4\n"
          ]
        }
      ]
    },
    {
      "cell_type": "code",
      "source": [
        "#Step 3:  Using membership operators to check membership in a list\n",
        "favorite_fruit = input(\"Please enter your favorite fruit: \")\n",
        "fruits = [\"apple\", \"banana\", \"orange\", \"grape\", \"pineapple\"]\n",
        "\n",
        "if favorite_fruit.lower() in fruits:\n",
        "  print(f\"{favorite_fruit.capitalize()} is a great choice\")\n",
        "\n",
        "else:\n",
        "  print(f\"{favorite_fruit.capitalize()} is not on the list\")"
      ],
      "metadata": {
        "id": "Ae4Dz_-XvUFy"
      },
      "execution_count": null,
      "outputs": []
    },
    {
      "cell_type": "code",
      "source": [],
      "metadata": {
        "id": "cgUCjCo3yOXE"
      },
      "execution_count": null,
      "outputs": []
    }
  ]
}