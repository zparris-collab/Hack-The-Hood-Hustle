{
  "nbformat": 4,
  "nbformat_minor": 0,
  "metadata": {
    "colab": {
      "provenance": [],
      "include_colab_link": true
    },
    "kernelspec": {
      "name": "python3",
      "display_name": "Python 3"
    },
    "language_info": {
      "name": "python"
    }
  },
  "cells": [
    {
      "cell_type": "markdown",
      "metadata": {
        "id": "view-in-github",
        "colab_type": "text"
      },
      "source": [
        "<a href=\"https://colab.research.google.com/github/zparris-collab/Hack-The-Hood-Hustle/blob/main/Pink_tic_tac_toe.ipynb\" target=\"_parent\"><img src=\"https://colab.research.google.com/assets/colab-badge.svg\" alt=\"Open In Colab\"/></a>"
      ]
    },
    {
      "cell_type": "code",
      "execution_count": null,
      "metadata": {
        "id": "bCyOxh4E34fA",
        "colab": {
          "base_uri": "https://localhost:8080/",
          "height": 106
        },
        "outputId": "f971fba8-a3f6-4551-8aa9-96af516c4c55"
      },
      "outputs": [
        {
          "output_type": "error",
          "ename": "SyntaxError",
          "evalue": "incomplete input (<ipython-input-1-f19bd5b36529>, line 9)",
          "traceback": [
            "\u001b[0;36m  File \u001b[0;32m\"<ipython-input-1-f19bd5b36529>\"\u001b[0;36m, line \u001b[0;32m9\u001b[0m\n\u001b[0;31m    \u001b[0m\n\u001b[0m    ^\u001b[0m\n\u001b[0;31mSyntaxError\u001b[0m\u001b[0;31m:\u001b[0m incomplete input\n"
          ]
        }
      ],
      "source": [
        " board = [[1,2,3],\n",
        "         [4,5,6],\n",
        "         [7,8,9]]\n",
        "\n",
        "\n",
        "def board_format(board):\n",
        "\n",
        "\n",
        "\n"
      ]
    },
    {
      "cell_type": "code",
      "source": [
        "def board():\n",
        "\n",
        "  board = [[1,2,3],\n",
        "           [4,5,6],\n",
        "           [7,8,9]]\n",
        "\n",
        "\n",
        "  for i in board:\n",
        "       for z in i:\n",
        "         print(z, end = \"  \")\n",
        "       print()\n",
        "\n",
        "board()\n",
        "\n",
        "player_1 = input(\"Do you want X or O?\").upper()\n",
        "\n",
        "if player_1 == \"X\":\n",
        "  print(\"you are X\")\n",
        "  player_2 = \"O\"\n",
        "\n",
        "\n",
        "elif player_1 == \"O\":\n",
        "    print(\"you are O\")\n",
        "    player_2 = \"X\"\n",
        "\n",
        "else:\n",
        "  print(\"INvalid\")\n",
        "\n",
        "\n",
        "#Step 4\n",
        "#somebody_wins =\n",
        "# while True:\n",
        "# first_player = input(\"Your X or O\")\n",
        "# selected_spot_taken\n",
        "# Print(\"Its players X Turn\")\n",
        "# while True:\n",
        "# second_player = \"O\"\n",
        "# Print(\"Its players X turn\")\n",
        "# Loop\n",
        "\n"
      ],
      "metadata": {
        "id": "A97Na4FA4QBj",
        "colab": {
          "base_uri": "https://localhost:8080/"
        },
        "outputId": "e5ffb6ab-69a4-45a6-c325-99021b026518"
      },
      "execution_count": null,
      "outputs": [
        {
          "output_type": "stream",
          "name": "stdout",
          "text": [
            "1  2  3  \n",
            "4  5  6  \n",
            "7  8  9  \n",
            "Do you want X or O?o\n",
            "you are O\n",
            "Player 1 is O\n",
            "Player 2 is X\n"
          ]
        }
      ]
    },
    {
      "cell_type": "code",
      "source": [
        "#While loop\n",
        "######################################\n",
        "def players_input(board):\n",
        "\n",
        "\n",
        "\n",
        "\n",
        "\n",
        "####################################\n",
        "def player_input(positions, current_player):\n",
        "  player_1 = int(input(\"pick from 1-9\"))\n",
        "  if int\n",
        "\n",
        "\n",
        "\n",
        "  #Print(f\"{player_}'s turn\")\n",
        "\n",
        "\n",
        "\n",
        "\n",
        "\n",
        "\n",
        "  #return\n",
        "\n",
        "###################################\n",
        "\n",
        "#if player_1 = [board]:\n",
        "\n",
        "#Player_1 turn\n",
        "# IF  :\n",
        "\n",
        "#player_2 turn\n",
        "# IF player_2 selects a spot:\n",
        "\n",
        "\n",
        "\n",
        "\n",
        "\n",
        "def player_input(positions, current_player):\n",
        "\n",
        "\n",
        "\n",
        "Initialize move_valid flag SET move_valid TO False\n",
        "Step 2: Create a loop-Display whose turn it is and prompt for their move.\n",
        "# Def player_input\n",
        " player_input(positions, current_player):\n",
        " # Initialize the move_valid flag as False # This flag will help to verify if the player's move is acceptable SET move_valid TO False\n"
      ],
      "metadata": {
        "id": "EiX7wpljGQbP",
        "colab": {
          "base_uri": "https://localhost:8080/"
        },
        "outputId": "2704b803-8635-4c64-80ec-7cff9a5bf38d"
      },
      "execution_count": null,
      "outputs": [
        {
          "output_type": "stream",
          "name": "stdout",
          "text": [
            "x\n",
            "INvalid\n"
          ]
        }
      ]
    }
  ]
}