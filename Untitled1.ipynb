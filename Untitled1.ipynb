{
  "nbformat": 4,
  "nbformat_minor": 0,
  "metadata": {
    "colab": {
      "provenance": [],
      "authorship_tag": "ABX9TyMvBNg0eiEpTNzYxWvbTGkq",
      "include_colab_link": true
    },
    "kernelspec": {
      "name": "python3",
      "display_name": "Python 3"
    },
    "language_info": {
      "name": "python"
    }
  },
  "cells": [
    {
      "cell_type": "markdown",
      "metadata": {
        "id": "view-in-github",
        "colab_type": "text"
      },
      "source": [
        "<a href=\"https://colab.research.google.com/github/zparris-collab/Hack-The-Hood-Hustle/blob/main/Untitled1.ipynb\" target=\"_parent\"><img src=\"https://colab.research.google.com/assets/colab-badge.svg\" alt=\"Open In Colab\"/></a>"
      ]
    },
    {
      "cell_type": "markdown",
      "source": [],
      "metadata": {
        "id": "_t-74jNI7rT4"
      }
    },
    {
      "cell_type": "code",
      "source": [
        "## Zyishaun, tiger team tues: 10-12 Orange\n",
        "## My instructor are Yoline and Jazz\n",
        "\n",
        "## https://github.com/zparris-collab"
      ],
      "metadata": {
        "id": "N6nYEh4Y8-Jc"
      },
      "execution_count": null,
      "outputs": []
    }
  ]
}