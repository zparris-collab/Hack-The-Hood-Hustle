{
  "nbformat": 4,
  "nbformat_minor": 0,
  "metadata": {
    "colab": {
      "provenance": [],
      "authorship_tag": "ABX9TyMLXQQEn1Lzw17+tIQ5Q90g",
      "include_colab_link": true
    },
    "kernelspec": {
      "name": "python3",
      "display_name": "Python 3"
    },
    "language_info": {
      "name": "python"
    }
  },
  "cells": [
    {
      "cell_type": "markdown",
      "metadata": {
        "id": "view-in-github",
        "colab_type": "text"
      },
      "source": [
        "<a href=\"https://colab.research.google.com/github/zparris-collab/Hack-The-Hood-Hustle/blob/main/Untitled1.ipynb\" target=\"_parent\"><img src=\"https://colab.research.google.com/assets/colab-badge.svg\" alt=\"Open In Colab\"/></a>"
      ]
    },
    {
      "cell_type": "markdown",
      "source": [],
      "metadata": {
        "id": "_t-74jNI7rT4"
      }
    },
    {
      "cell_type": "code",
      "source": [],
      "metadata": {
        "id": "N6nYEh4Y8-Jc"
      },
      "execution_count": null,
      "outputs": []
    },
    {
      "cell_type": "markdown",
      "source": [
        "#Survey\n",
        "\n",
        "step 1: create questions for the users to answer\n",
        "\n",
        "step 2: Ask user to provide feedback"
      ],
      "metadata": {
        "id": "dGYdleGwJ9Py"
      }
    },
    {
      "cell_type": "markdown",
      "source": [
        "# Step 1:create questions for the users to answer"
      ],
      "metadata": {
        "id": "E5D9oOTBKSS6"
      }
    },
    {
      "cell_type": "code",
      "source": [
        "questions = []\n",
        "\n",
        "# Use a different variable name to avoid overwriting the input() function\n",
        "response1 = input(\"What motivated you to take this survey today? \")\n",
        "\n",
        "if response1 == 'mom':\n",
        "  print('mom')\n",
        "\n",
        "else :\n",
        "\n",
        "response2 = input(\"Are you comfortable with doing this survey? \")\n",
        "response3 = input(\"what are your motivations? \")\n",
        "response4 = input(\"What motivated you to take this survey today? \")\n",
        "\n",
        "# Optionally, you can store the responses in the 'questions' list\n",
        "questions.append(response1)\n",
        "questions.append(response2)\n",
        "questions.append(response3)\n",
        "questions.append(response4)\n",
        "\n",
        "\n",
        "\n"
      ],
      "metadata": {
        "id": "2NsdmhuYKYK8",
        "outputId": "4fa93fda-4ecc-48da-fae8-ae6429a2b6fa",
        "colab": {
          "base_uri": "https://localhost:8080/",
          "height": 105
        }
      },
      "execution_count": 20,
      "outputs": [
        {
          "output_type": "error",
          "ename": "IndentationError",
          "evalue": "expected an indented block after 'else' statement on line 9 (<ipython-input-20-f6526088cbc2>, line 11)",
          "traceback": [
            "\u001b[0;36m  File \u001b[0;32m\"<ipython-input-20-f6526088cbc2>\"\u001b[0;36m, line \u001b[0;32m11\u001b[0m\n\u001b[0;31m    response2 = input(\"Are you comfortable with doing this survey? \")\u001b[0m\n\u001b[0m    ^\u001b[0m\n\u001b[0;31mIndentationError\u001b[0m\u001b[0;31m:\u001b[0m expected an indented block after 'else' statement on line 9\n"
          ]
        }
      ]
    },
    {
      "cell_type": "code",
      "source": [
        "\"\""
      ],
      "metadata": {
        "id": "8hPLLBqKK7O0"
      },
      "execution_count": 10,
      "outputs": []
    }
  ]
}