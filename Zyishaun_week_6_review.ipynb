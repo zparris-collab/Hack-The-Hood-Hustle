{
  "nbformat": 4,
  "nbformat_minor": 0,
  "metadata": {
    "colab": {
      "provenance": [],
      "authorship_tag": "ABX9TyN+5LIhzZiwwXvAR/yJn+eZ",
      "include_colab_link": true
    },
    "kernelspec": {
      "name": "python3",
      "display_name": "Python 3"
    },
    "language_info": {
      "name": "python"
    }
  },
  "cells": [
    {
      "cell_type": "markdown",
      "metadata": {
        "id": "view-in-github",
        "colab_type": "text"
      },
      "source": [
        "<a href=\"https://colab.research.google.com/github/zparris-collab/Hack-The-Hood-Hustle/blob/main/Zyishaun_week_6_review.ipynb\" target=\"_parent\"><img src=\"https://colab.research.google.com/assets/colab-badge.svg\" alt=\"Open In Colab\"/></a>"
      ]
    },
    {
      "cell_type": "markdown",
      "source": [
        "# Iteration Review"
      ],
      "metadata": {
        "id": "7zQdZ6uEPZmB"
      }
    },
    {
      "cell_type": "code",
      "source": [
        "# to mass comment a section, hold down both cmd + '?' keys\n",
        "\n",
        "# What is iteration?\n",
        "# like a loop, a effecient way to perform code that needs to be repeated\n",
        "# no time to always write out each individual print\n",
        "\n",
        "# What is a while loop?\n",
        "#Works, or keeps looping, as something is True\n",
        "\n",
        "# What is a for loop?\n",
        "#Work over a sequence (list, dictionaray, string). When you know how many times\n",
        "#it needs to go over something"
      ],
      "metadata": {
        "id": "JoegAjAyPc70"
      },
      "execution_count": null,
      "outputs": []
    },
    {
      "cell_type": "markdown",
      "source": [
        "# While loop or For loop"
      ],
      "metadata": {
        "id": "cyvtNmx1PiaG"
      }
    },
    {
      "cell_type": "code",
      "source": [
        "# Print out each name on a student roster\n",
        "\n",
        "# roster = ['Zyishaun', 'AB', 'Ayani', 'Edith']\n",
        "\n",
        "# for name in roster:\n",
        "#   print(name)\n",
        "\n",
        "\n",
        "#Ask a user to create a password. If the password doesn't meet the password\n",
        "#requirements, ask them to create a new password. Repeat until their password\n",
        "#meets the requirements.\n",
        "\n",
        "#password should be long, 8 characters\n",
        "  # pw_len >= 8\n",
        "# needs a special character (!, $)\n",
        "\n",
        "registered_password = \"a\"\n",
        "\n",
        "# pw_len = len(password)\n",
        "\n",
        "# print(pw_len)\n",
        "\n",
        "\n",
        "special_characters = ['!', '@', \"#\", \"$\", '%', '^', '&', '*']\n",
        "\n",
        "\n",
        "# example_string = '@'\n",
        "# for char in special_characters:\n",
        "#   print(f\"{char} check \")\n",
        "#   if char in example_string:\n",
        "#     print(True)\n",
        "#   else:\n",
        "#     print(False)\n",
        "\n",
        "def check_for_special_character(password_new):\n",
        "  # print('I am inside the function you made!!!!')\n",
        "  for char in special_characters:\n",
        "    if char in password_new:\n",
        "        return True\n",
        "  return False\n",
        "\n",
        "  #   for char in special_characters:\n",
        "  #     if char in password_new:\n",
        "  #         return True\n",
        "  # return False\n",
        "\n",
        "# print(check_for_special_character(\"@\"))\n",
        "while len(registered_password) < 8:\n",
        "  password_new = input('please enter a new pw (should be at least 8 characters ) ')\n",
        "  has_special_char = check_for_special_character(password_new)\n",
        "  print('has special character: ', has_special_char)\n",
        "  if len(password_new) >= 8 and has_special_char:\n",
        "    # print('registered password before changing', registered_password)\n",
        "    registered_password = password_new\n",
        "    # print('registered password after changing', registered_password)\n",
        "    print('great password!')\n",
        "  else:\n",
        "    print(\"PW doesn't meet requirements, try again\")"
      ],
      "metadata": {
        "id": "3_BF3xhFPnHq"
      },
      "execution_count": null,
      "outputs": []
    },
    {
      "cell_type": "code",
      "source": [
        "zoo = [1, 2, 3]\n",
        "\n",
        "students = ['a', 'b', 'c']\n",
        "\n",
        "\n",
        "len(zoo)\n",
        "len(students)\n",
        "\n",
        "def len(item_the_user_wants_to_check)\n",
        "  return #number of item_the_user_wants_to_check"
      ],
      "metadata": {
        "id": "8wtTMLb_P6hE"
      },
      "execution_count": null,
      "outputs": []
    }
  ]
}