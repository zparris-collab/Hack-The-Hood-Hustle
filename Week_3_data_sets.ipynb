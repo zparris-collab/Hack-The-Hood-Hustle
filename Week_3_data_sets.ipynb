{
  "nbformat": 4,
  "nbformat_minor": 0,
  "metadata": {
    "colab": {
      "provenance": [],
      "authorship_tag": "ABX9TyPqyBef13Edr6X+GcdtmWjg",
      "include_colab_link": true
    },
    "kernelspec": {
      "name": "python3",
      "display_name": "Python 3"
    },
    "language_info": {
      "name": "python"
    }
  },
  "cells": [
    {
      "cell_type": "markdown",
      "metadata": {
        "id": "view-in-github",
        "colab_type": "text"
      },
      "source": [
        "<a href=\"https://colab.research.google.com/github/zparris-collab/Hack-The-Hood-Hustle/blob/main/Week_3_data_sets.ipynb\" target=\"_parent\"><img src=\"https://colab.research.google.com/assets/colab-badge.svg\" alt=\"Open In Colab\"/></a>"
      ]
    },
    {
      "cell_type": "code",
      "execution_count": null,
      "metadata": {
        "id": "wMjf2P7olrNa"
      },
      "outputs": [],
      "source": []
    },
    {
      "cell_type": "markdown",
      "source": [
        "#build a dictionary of our favorite foods\n"
      ],
      "metadata": {
        "id": "yS-i_dPrmZbH"
      }
    },
    {
      "cell_type": "code",
      "source": [
        "likes =['fruit', 'chicken', 'combination pizza']\n",
        "Dislikes=['Agua Fresca', 'mayo', 'greasy foods']\n",
        "\n",
        "Zyishaun={\n",
        "    'likes': ['fruit', 'chicken', 'combination pizza'],\n",
        "    'Dislikes':['Agua Fresca', 'mayo', 'greasy foods']\n",
        "    }\n",
        "print(Zyishaun)"
      ],
      "metadata": {
        "colab": {
          "base_uri": "https://localhost:8080/"
        },
        "id": "mi5dNVK7m4ZK",
        "outputId": "fc995cce-3170-4b92-8545-4793728f3a29"
      },
      "execution_count": 6,
      "outputs": [
        {
          "output_type": "stream",
          "name": "stdout",
          "text": [
            "{'likes': ['fruit', 'chicken', 'combination pizza'], 'Dislikes': ['Agua Fresca', 'mayo', 'greasy foods']}\n"
          ]
        }
      ]
    },
    {
      "cell_type": "code",
      "source": [],
      "metadata": {
        "id": "t1V41x8iqFRC"
      },
      "execution_count": null,
      "outputs": []
    },
    {
      "cell_type": "markdown",
      "source": [
        "print out list for likes\n",
        "\n",
        "Print out list for dislikes"
      ],
      "metadata": {
        "id": "EGR0wLgZqGBO"
      }
    },
    {
      "cell_type": "code",
      "source": [
        "print(Zyishaun['likes'])\n",
        "print(Zyishaun['Dislikes'])\n",
        "print(Zyishaun['likes'][0])"
      ],
      "metadata": {
        "colab": {
          "base_uri": "https://localhost:8080/"
        },
        "id": "b_4Ex9WSqkLN",
        "outputId": "973fff3e-8354-47e8-c23d-eb2354ac4f1a"
      },
      "execution_count": 15,
      "outputs": [
        {
          "output_type": "stream",
          "name": "stdout",
          "text": [
            "['fruit', 'chicken', 'combination pizza']\n",
            "['Agua Fresca', 'mayo', 'greasy foods']\n",
            "fruit\n"
          ]
        }
      ]
    },
    {
      "cell_type": "markdown",
      "source": [
        "Nested Data types"
      ],
      "metadata": {
        "id": "ZkIbb3kMs3Z3"
      }
    },
    {
      "cell_type": "code",
      "source": [
        "meal_options = {\n",
        "    \"breakfast\": {\n",
        "        \"food\": [\"pancakes\", \"waffles\", \"fruit\"],\n",
        "        \"drinks\": [\"coffee\", \"black tea\", \"smoothie\", \"water\"]\n",
        "    },\n",
        "    \"lunch\": {\n",
        "        \"food\": [\"sandwich\", \"dumplings\"],\n",
        "        \"drinks\": [\"water\", \"green tea\", \"soda\"]\n",
        "    },\n",
        "    \"dinner\": {\n",
        "        \"food\": [\"ramen\", \"risotto\"],\n",
        "        \"drinks\": [\"water\", \"chamomile tea\"]\n",
        "    }\n",
        "}\n",
        "\n",
        "# 1. print all the meal options\n",
        "print(meal_options)\n",
        "\n",
        "# 2. print only the breakfast options\n",
        "print(meal_options[\"breakfast\"])\n",
        "\n",
        "# 3. print the dinner food options\n",
        "print(meal_options[\"dinner\"][\"food\"])\n",
        "\n",
        "# 4. print the lunch drinks options\n",
        "print(meal_options[\"lunch\"][\"drinks\"])\n",
        "\n",
        "# 5. print waffles (by accessing the dictionaries and list)\n",
        "print(meal_options[\"breakfast\"][\"food\"][1])\n",
        "\n",
        "# 6. print dumplings (by accessing the dictionaries and list)\n",
        "print(meal_options[\"lunch\"][\"food\"][1])\n",
        "# 7. print chamomile tea (by accessing the dictionaries and list)\n",
        "\n",
        "# 8. remove green tea from the lunch drinks\n",
        "meal_options[\"lunch\"][\"drinks\"].remove(\"green tea\")\n",
        "\n",
        "print(meal_options[\"lunch\"][\"drinks\"])\n",
        "\n",
        "# 9. add pizza to dinner foods"
      ],
      "metadata": {
        "colab": {
          "base_uri": "https://localhost:8080/"
        },
        "id": "UNDmePwOtEJg",
        "outputId": "316aae87-6b08-4efc-d4d5-cdd37b209df4"
      },
      "execution_count": 22,
      "outputs": [
        {
          "output_type": "stream",
          "name": "stdout",
          "text": [
            "{'breakfast': {'food': ['pancakes', 'waffles', 'fruit'], 'drinks': ['coffee', 'black tea', 'smoothie', 'water']}, 'lunch': {'food': ['sandwich', 'dumplings'], 'drinks': ['water', 'green tea', 'soda']}, 'dinner': {'food': ['ramen', 'risotto'], 'drinks': ['water', 'chamomile tea']}}\n",
            "{'food': ['pancakes', 'waffles', 'fruit'], 'drinks': ['coffee', 'black tea', 'smoothie', 'water']}\n",
            "['ramen', 'risotto']\n",
            "['water', 'green tea', 'soda']\n",
            "waffles\n",
            "dumplings\n",
            "['water', 'soda']\n"
          ]
        }
      ]
    }
  ]
}