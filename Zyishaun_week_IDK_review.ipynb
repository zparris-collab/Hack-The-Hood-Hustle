{
  "nbformat": 4,
  "nbformat_minor": 0,
  "metadata": {
    "colab": {
      "provenance": [],
      "authorship_tag": "ABX9TyOo8e0qrI2B1HbyKfWtgwzb",
      "include_colab_link": true
    },
    "kernelspec": {
      "name": "python3",
      "display_name": "Python 3"
    },
    "language_info": {
      "name": "python"
    }
  },
  "cells": [
    {
      "cell_type": "markdown",
      "metadata": {
        "id": "view-in-github",
        "colab_type": "text"
      },
      "source": [
        "<a href=\"https://colab.research.google.com/github/zparris-collab/Hack-The-Hood-Hustle/blob/main/Zyishaun_week_IDK_review.ipynb\" target=\"_parent\"><img src=\"https://colab.research.google.com/assets/colab-badge.svg\" alt=\"Open In Colab\"/></a>"
      ]
    },
    {
      "cell_type": "markdown",
      "source": [
        "Create a function that declares the super hero's power\n",
        "\n",
        "\n",
        "*   We have person's name\n",
        "*   Have the power listed\n",
        "*   Final output is a sentence that says the name and the power"
      ],
      "metadata": {
        "id": "H_FPqXQ962Lz"
      }
    },
    {
      "cell_type": "code",
      "source": [
        "def use_super_power(user_name,super_power):\n",
        "  return user_name + \" \" + \"Giomatti\" + \" \" + super_power\n",
        "\n",
        "\n",
        "use_super_power(\"Miranda\",\"Beats civilians\")"
      ],
      "metadata": {
        "colab": {
          "base_uri": "https://localhost:8080/",
          "height": 35
        },
        "id": "fliRzZYr7E7y",
        "outputId": "5595add7-3376-4e17-d3c3-8c3f6a53735b"
      },
      "execution_count": 16,
      "outputs": [
        {
          "output_type": "execute_result",
          "data": {
            "text/plain": [
              "'Miranda Giomatti Beats civilians'"
            ],
            "application/vnd.google.colaboratory.intrinsic+json": {
              "type": "string"
            }
          },
          "metadata": {},
          "execution_count": 16
        }
      ]
    },
    {
      "cell_type": "markdown",
      "source": [
        "Lets build our class superheero"
      ],
      "metadata": {
        "id": "dIqCYiMw_LKp"
      }
    },
    {
      "cell_type": "code",
      "source": [
        "class superhero:\n",
        "  def _init_(self,name,super_power):\n",
        "    self.name = name\n",
        "    self.super_power = super_power\n",
        "\n",
        "\n",
        "  def user_super_power(user_name, self):\n",
        "    return user_name + \"s\" + \" \" + \"superhero \" + self.super_power\n",
        "\n",
        "super_hero_1 = Superhero('Batman', 'Fights evil with dollar bills! Dolla Dolla Bills Yall')\n",
        "\n",
        "print(super_hero_1.super_hero_name)\n",
        "\n",
        "print(super_hero_1.user_super_power)"
      ],
      "metadata": {
        "id": "qQ7I3Nqs_O_r"
      },
      "execution_count": null,
      "outputs": []
    },
    {
      "cell_type": "code",
      "source": [
        "class Cat:\n",
        "  def __init__(self, name, age):\n",
        "    self.name = name\n",
        "    self.age = age\n",
        "\n",
        "\n",
        "  def meow(self):\n",
        "    print(f\"{self.name} says 'Meow!'\")\n",
        "\n",
        "  def add_toy(self, new_toy):\n",
        "    self.toys.append(new_toy)\n",
        "    return self.toys\n",
        "\n",
        "\n",
        "cat1 = Cat('Whiskers', 5)\n",
        "\n",
        "print(cat1.name)"
      ],
      "metadata": {
        "id": "q_HeVZu0DhBf"
      },
      "execution_count": null,
      "outputs": []
    }
  ]
}