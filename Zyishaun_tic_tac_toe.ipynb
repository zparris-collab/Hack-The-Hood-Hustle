{
  "nbformat": 4,
  "nbformat_minor": 0,
  "metadata": {
    "colab": {
      "provenance": [],
      "include_colab_link": true
    },
    "kernelspec": {
      "name": "python3",
      "display_name": "Python 3"
    },
    "language_info": {
      "name": "python"
    }
  },
  "cells": [
    {
      "cell_type": "markdown",
      "metadata": {
        "id": "view-in-github",
        "colab_type": "text"
      },
      "source": [
        "<a href=\"https://colab.research.google.com/github/zparris-collab/Hack-The-Hood-Hustle/blob/main/Zyishaun_tic_tac_toe.ipynb\" target=\"_parent\"><img src=\"https://colab.research.google.com/assets/colab-badge.svg\" alt=\"Open In Colab\"/></a>"
      ]
    },
    {
      "cell_type": "code",
      "source": [
        "\n",
        "def introduction():\n",
        "  str = \"Welcome! To the game of Tic Tac Toe XOXO!!!\"\n",
        "  print(str)\n",
        "\n",
        "introduction()\n",
        "\n",
        "positions = positions = {1: '1', 2: '2', 3: '3', 4: '4', 5: '5', 6: '6', 7: '7', 8: '8', 9: '9'}\n",
        "\n",
        "# Step 2: Board Representation\n",
        "def board(positions):\n",
        "    board = (f'|{positions[1]}|{positions[2]}|{positions[3]}|\\n'\n",
        "             f'|{positions[4]}|{positions[5]}|{positions[6]}|\\n'\n",
        "             f'|{positions[7]}|{positions[8]}|{positions[9]}|')\n",
        "    print(board)\n",
        "\n",
        "\n",
        "\n",
        "board(positions)\n",
        "\n",
        "\n",
        "# Step 3: Player Input and Marker Selection\n",
        "\n",
        "# Player_1 input takes in whichever marker player_1 chooses\n",
        "\n",
        "player_1 = input(\"Please select your marker : X or O:\").upper() #computer takes in whichever marker thats chosen\n",
        "while player_1 not in [\"X\", \"O\"]: # This loops into checking if player_1 has chosen X or O\n",
        "  print(\"Pick proper marker. Please try again:\")\n",
        "  player_1 = input(\"Please select your marker : X or O:\").upper()\n",
        "\n",
        "\n",
        "\n",
        "player_2 = 'O' if player_1 == 'X' else 'X' # if player_1 chooses X than player_2 = O and if player_1 chooses O than player_2 is X\n",
        "print(f\"You picked {player_1}, so Player 2 is {player_2}.\")\n",
        "\n",
        "\n",
        "# Step 4: Take Turns\n",
        "\n",
        "def player_input(positions,player_1):\n",
        "  valid_move = False\n",
        "  while not valid_move:\n",
        "        positions_input = int(input(f\"{player_1}'s turn. Enter a number 1-9 to place your marker: \"))\n",
        "        if positions_input >= 1 and positions_input <= 9: # player_1 position has to be between 1 and 9\n",
        "            if positions[positions_input ] == ' ': # if player_1 has selected a number in a valid position\n",
        "                positions[positions_input ] = player_1 # that position will show up as player_1 marker\n",
        "                move_valid = True\n",
        "            else:\n",
        "              print(\"That spot is taken. Choose another spot.\")\n",
        "        else:\n",
        "            print(\"Invalid input. Enter a number from 1 to 9.\")\n",
        "\n",
        "\n",
        "# Step 4:steps 4: Define the Change Player Function\n",
        "def change_player(player_1):\n",
        "    return 'O' if player_1 == 'X' else 'X'\n",
        "\n",
        "\n",
        "#  Step 4:Setps 5-6:Main Game Loop\n",
        "for i in range(9):\n",
        "    board(positions)\n",
        "    player_input(positions, player_1)\n",
        "\n",
        "    if i < 8:\n",
        "        player_1 = change_player(player_1)\n"
      ],
      "metadata": {
        "id": "4g7Oe16mDgYH",
        "colab": {
          "base_uri": "https://localhost:8080/"
        },
        "outputId": "a7909a9f-ba4a-48ff-eb7b-a31c90d90103"
      },
      "execution_count": null,
      "outputs": [
        {
          "metadata": {
            "tags": null
          },
          "name": "stdout",
          "output_type": "stream",
          "text": [
            "Welcome! To the game of Tic Tac Toe XOXO!!!\n",
            "|1|2|3|\n",
            "|4|5|6|\n",
            "|7|8|9|\n",
            "You picked O, so Player 2 is X.\n",
            "|1|2|3|\n",
            "|4|5|6|\n",
            "|7|8|9|\n",
            "That spot is taken. Choose another spot.\n"
          ]
        }
      ]
    }
  ]
}