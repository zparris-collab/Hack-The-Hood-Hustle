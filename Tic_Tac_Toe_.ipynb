{
  "nbformat": 4,
  "nbformat_minor": 0,
  "metadata": {
    "colab": {
      "provenance": [],
      "authorship_tag": "ABX9TyNn6UsaDkISQgoz5i6aRFI5",
      "include_colab_link": true
    },
    "kernelspec": {
      "name": "python3",
      "display_name": "Python 3"
    },
    "language_info": {
      "name": "python"
    }
  },
  "cells": [
    {
      "cell_type": "markdown",
      "metadata": {
        "id": "view-in-github",
        "colab_type": "text"
      },
      "source": [
        "<a href=\"https://colab.research.google.com/github/zparris-collab/Hack-The-Hood-Hustle/blob/main/Tic_Tac_Toe_.ipynb\" target=\"_parent\"><img src=\"https://colab.research.google.com/assets/colab-badge.svg\" alt=\"Open In Colab\"/></a>"
      ]
    },
    {
      "cell_type": "markdown",
      "source": [
        "#Welcome and Objective:\n",
        "\n",
        "#Welcome to the Tic Tac Toe game project! In this project, you will create a Python Tic Tac Toe game using functions. The game will generate a Tic Tac Toe board and allow for one or two players to play. You will implement helper functions to replicate a CPU for single-player and enable two players to play against each other. You will also need to check for all win conditions as well as tie conditions.\n"
      ],
      "metadata": {
        "id": "s9_6v0Is4SmW"
      }
    },
    {
      "cell_type": "code",
      "source": [
        "def board():\n",
        "\n",
        "  board = [[1,2,3],\n",
        "           [4,5,6],\n",
        "           [7,8,9]]\n",
        "\n",
        "\n",
        "  for i in board:\n",
        "       print(i)\n",
        "\n",
        "board()"
      ],
      "metadata": {
        "colab": {
          "base_uri": "https://localhost:8080/"
        },
        "id": "dOppJ5RM-pBg",
        "outputId": "d5de42e0-a5de-40d3-e633-f9493b6b30f7"
      },
      "execution_count": null,
      "outputs": [
        {
          "output_type": "stream",
          "name": "stdout",
          "text": [
            "[1, 2, 3]\n",
            "[4, 5, 6]\n",
            "[7, 8, 9]\n"
          ]
        }
      ]
    },
    {
      "cell_type": "code",
      "source": [
        "def board():\n",
        "\n",
        "  board = [[1,2,3],\n",
        "           [4,5,6],\n",
        "           [7,8,9]]\n",
        "\n",
        "\n",
        "  for i in board:\n",
        "       print(i)\n",
        "\n",
        "board()\n",
        "\n",
        "\n",
        "\n",
        "\n",
        "\n",
        "player_1 = input(\"Player 1 would you like to be x or o? :\").upper()\n",
        "\n",
        "if player_1 == \"X\":\n",
        "  print(\"you are X\")\n",
        "\n",
        "elif player_1 == \"O\":\n",
        "  print(\"you are O\")\n",
        "\n",
        "else:\n",
        "  print(\"please choose X or O :\")\n",
        "  player_1 = input(\"Would you like to be x or o?\").upper()\n",
        "\n",
        "\n",
        "player_2 = input(\"Player 2 pick available marker :\")\n",
        "if player_1 == \"X\":\n",
        "    print(\"you are O\")\n",
        "\n",
        "elif player_1 == \"O\":\n",
        "  print(\"you are X\")\n",
        "\n",
        "else:\n",
        "  print(\"blah\")\n",
        "\n",
        "def players():\n",
        "    marks = 'o', 'x'\n",
        "    player1 = None\n",
        "    player2 = None\n",
        "    mark = input(\"Who are you? \").lower()\n",
        "    if mark == 'o':\n",
        "        player1 = 'o'\n",
        "        player2 = 'x'\n",
        "    else:\n",
        "        player1 = 'x'\n",
        "        player2 = 'o'\n",
        "    for i in range(21):\n",
        "        if player1 == True:\n",
        "            print(player1)\n",
        "            player1 = False\n",
        "        else:\n",
        "            print(player2)\n",
        "            player1 = True\n",
        "\n",
        "\n",
        "\n"
      ],
      "metadata": {
        "id": "JZ0ZZVnpB1bu",
        "colab": {
          "base_uri": "https://localhost:8080/"
        },
        "outputId": "8fbc2561-fa9e-4155-bc2e-1f3ee6bd2cbd"
      },
      "execution_count": null,
      "outputs": [
        {
          "metadata": {
            "tags": null
          },
          "name": "stdout",
          "output_type": "stream",
          "text": [
            "[1, 2, 3]\n",
            "[4, 5, 6]\n",
            "[7, 8, 9]\n"
          ]
        }
      ]
    },
    {
      "cell_type": "code",
      "source": [
        "def players():\n",
        "    marks = 'o', 'x'\n",
        "    player1 = None\n",
        "    player2 = None\n",
        "    mark = input(\"Who are you? \").lower()\n",
        "    if mark == 'o':\n",
        "        player1 = 'o'\n",
        "        player2 = 'x'\n",
        "    else:\n",
        "        player1 = 'x'\n",
        "        player2 = 'o'\n",
        "    for i in range(21):\n",
        "        if player1 == True:\n",
        "            print(player1)\n",
        "            player1 = False\n",
        "        else:\n",
        "            print(player2)\n",
        "            player1 = True"
      ],
      "metadata": {
        "id": "kjJPOm_nixQX"
      },
      "execution_count": null,
      "outputs": []
    }
  ]
}